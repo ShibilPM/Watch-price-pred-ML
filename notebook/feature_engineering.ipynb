{
 "cells": [
  {
   "cell_type": "code",
   "execution_count": 304,
   "metadata": {},
   "outputs": [],
   "source": [
    "import re\n",
    "import pandas as pd\n",
    "import numpy as np\n",
    "import matplotlib.pyplot as plt\n",
    "import seaborn as sns\n",
    "\n",
    "from sklearn.preprocessing import MinMaxScaler\n",
    "\n",
    "%matplotlib inline"
   ]
  },
  {
   "cell_type": "code",
   "execution_count": 305,
   "metadata": {},
   "outputs": [],
   "source": [
    "data_path = '../data/smartwatches.csv'\n",
    "df = pd.read_csv(data_path)\n",
    "df.drop_duplicates(inplace=True)\n",
    "# train_df = df.sample(frac=0.8, random_state=42)\n",
    "# test_df = df.drop(train_df.index)\n",
    "# train_df = train_df.reset_index()\n",
    "# test_df = test_df.reset_index()"
   ]
  },
  {
   "cell_type": "code",
   "execution_count": 306,
   "metadata": {},
   "outputs": [],
   "source": [
    "train_df = df.copy()"
   ]
  },
  {
   "cell_type": "code",
   "execution_count": 307,
   "metadata": {},
   "outputs": [
    {
     "data": {
      "text/plain": [
       "((450, 16), (450, 16), (90, 17))"
      ]
     },
     "execution_count": 307,
     "metadata": {},
     "output_type": "execute_result"
    }
   ],
   "source": [
    "df.shape, train_df.shape, test_df.shape"
   ]
  },
  {
   "cell_type": "code",
   "execution_count": 308,
   "metadata": {},
   "outputs": [
    {
     "data": {
      "text/html": [
       "<div>\n",
       "<style scoped>\n",
       "    .dataframe tbody tr th:only-of-type {\n",
       "        vertical-align: middle;\n",
       "    }\n",
       "\n",
       "    .dataframe tbody tr th {\n",
       "        vertical-align: top;\n",
       "    }\n",
       "\n",
       "    .dataframe thead th {\n",
       "        text-align: right;\n",
       "    }\n",
       "</style>\n",
       "<table border=\"1\" class=\"dataframe\">\n",
       "  <thead>\n",
       "    <tr style=\"text-align: right;\">\n",
       "      <th></th>\n",
       "      <th>Unnamed: 0</th>\n",
       "      <th>Brand</th>\n",
       "      <th>Current Price</th>\n",
       "      <th>Original Price</th>\n",
       "      <th>Discount Percentage</th>\n",
       "      <th>Rating</th>\n",
       "      <th>Number OF Ratings</th>\n",
       "      <th>Model Name</th>\n",
       "      <th>Dial Shape</th>\n",
       "      <th>Strap Color</th>\n",
       "      <th>Strap Material</th>\n",
       "      <th>Touchscreen</th>\n",
       "      <th>Battery Life (Days)</th>\n",
       "      <th>Bluetooth</th>\n",
       "      <th>Display Size</th>\n",
       "      <th>Weight</th>\n",
       "    </tr>\n",
       "  </thead>\n",
       "  <tbody>\n",
       "    <tr>\n",
       "      <th>0</th>\n",
       "      <td>0</td>\n",
       "      <td>noise</td>\n",
       "      <td>82990.0</td>\n",
       "      <td>89900.0</td>\n",
       "      <td>7.686318</td>\n",
       "      <td>4.0</td>\n",
       "      <td>65.0</td>\n",
       "      <td>Wrb-sw-colorfitpro4alpha-std-rgld_pnk</td>\n",
       "      <td>NaN</td>\n",
       "      <td>NaN</td>\n",
       "      <td>NaN</td>\n",
       "      <td>NaN</td>\n",
       "      <td>8.0</td>\n",
       "      <td>Yes</td>\n",
       "      <td>NaN</td>\n",
       "      <td>35 - 50 g</td>\n",
       "    </tr>\n",
       "    <tr>\n",
       "      <th>1</th>\n",
       "      <td>1</td>\n",
       "      <td>fire-boltt</td>\n",
       "      <td>3799.0</td>\n",
       "      <td>16999.0</td>\n",
       "      <td>77.651627</td>\n",
       "      <td>4.3</td>\n",
       "      <td>20788.0</td>\n",
       "      <td>BSW046</td>\n",
       "      <td>NaN</td>\n",
       "      <td>NaN</td>\n",
       "      <td>Silicon</td>\n",
       "      <td>Yes</td>\n",
       "      <td>3.5</td>\n",
       "      <td>Yes</td>\n",
       "      <td>1.8 inches</td>\n",
       "      <td>50 - 75 g</td>\n",
       "    </tr>\n",
       "    <tr>\n",
       "      <th>2</th>\n",
       "      <td>2</td>\n",
       "      <td>boat</td>\n",
       "      <td>1999.0</td>\n",
       "      <td>7990.0</td>\n",
       "      <td>74.981227</td>\n",
       "      <td>3.8</td>\n",
       "      <td>21724.0</td>\n",
       "      <td>Wave Call</td>\n",
       "      <td>NaN</td>\n",
       "      <td>NaN</td>\n",
       "      <td>Silicon</td>\n",
       "      <td>Yes</td>\n",
       "      <td>8.0</td>\n",
       "      <td>Yes</td>\n",
       "      <td>1.7 inches</td>\n",
       "      <td>35 - 50 g</td>\n",
       "    </tr>\n",
       "    <tr>\n",
       "      <th>3</th>\n",
       "      <td>3</td>\n",
       "      <td>fire-boltt</td>\n",
       "      <td>1799.0</td>\n",
       "      <td>19999.0</td>\n",
       "      <td>91.004550</td>\n",
       "      <td>4.3</td>\n",
       "      <td>13244.0</td>\n",
       "      <td>BSW053</td>\n",
       "      <td>NaN</td>\n",
       "      <td>NaN</td>\n",
       "      <td>Silicon</td>\n",
       "      <td>Yes</td>\n",
       "      <td>3.5</td>\n",
       "      <td>Yes</td>\n",
       "      <td>1.8 inches</td>\n",
       "      <td>75g +</td>\n",
       "    </tr>\n",
       "    <tr>\n",
       "      <th>4</th>\n",
       "      <td>4</td>\n",
       "      <td>noise</td>\n",
       "      <td>1599.0</td>\n",
       "      <td>4999.0</td>\n",
       "      <td>68.013603</td>\n",
       "      <td>4.1</td>\n",
       "      <td>13901.0</td>\n",
       "      <td>Wrb-sw-colorfitpulsegobuzz-std-blk_blk</td>\n",
       "      <td>NaN</td>\n",
       "      <td>NaN</td>\n",
       "      <td>Other</td>\n",
       "      <td>Yes</td>\n",
       "      <td>8.0</td>\n",
       "      <td>Yes</td>\n",
       "      <td>1.7 inches</td>\n",
       "      <td>35 - 50 g</td>\n",
       "    </tr>\n",
       "  </tbody>\n",
       "</table>\n",
       "</div>"
      ],
      "text/plain": [
       "   Unnamed: 0       Brand  Current Price  Original Price  Discount Percentage  \\\n",
       "0           0       noise        82990.0         89900.0             7.686318   \n",
       "1           1  fire-boltt         3799.0         16999.0            77.651627   \n",
       "2           2        boat         1999.0          7990.0            74.981227   \n",
       "3           3  fire-boltt         1799.0         19999.0            91.004550   \n",
       "4           4       noise         1599.0          4999.0            68.013603   \n",
       "\n",
       "   Rating  Number OF Ratings                              Model Name  \\\n",
       "0     4.0               65.0   Wrb-sw-colorfitpro4alpha-std-rgld_pnk   \n",
       "1     4.3            20788.0                                  BSW046   \n",
       "2     3.8            21724.0                               Wave Call   \n",
       "3     4.3            13244.0                                  BSW053   \n",
       "4     4.1            13901.0  Wrb-sw-colorfitpulsegobuzz-std-blk_blk   \n",
       "\n",
       "  Dial Shape Strap Color Strap Material Touchscreen  Battery Life (Days)  \\\n",
       "0        NaN         NaN            NaN         NaN                  8.0   \n",
       "1        NaN         NaN        Silicon         Yes                  3.5   \n",
       "2        NaN         NaN        Silicon         Yes                  8.0   \n",
       "3        NaN         NaN        Silicon         Yes                  3.5   \n",
       "4        NaN         NaN          Other         Yes                  8.0   \n",
       "\n",
       "  Bluetooth Display Size     Weight  \n",
       "0       Yes          NaN  35 - 50 g  \n",
       "1       Yes   1.8 inches  50 - 75 g  \n",
       "2       Yes   1.7 inches  35 - 50 g  \n",
       "3       Yes   1.8 inches      75g +  \n",
       "4       Yes   1.7 inches  35 - 50 g  "
      ]
     },
     "execution_count": 308,
     "metadata": {},
     "output_type": "execute_result"
    }
   ],
   "source": [
    "train_df.head()"
   ]
  },
  {
   "cell_type": "code",
   "execution_count": 309,
   "metadata": {},
   "outputs": [],
   "source": [
    "train_df.drop(['Unnamed: 0'], axis=1, inplace=True)"
   ]
  },
  {
   "cell_type": "code",
   "execution_count": 310,
   "metadata": {},
   "outputs": [
    {
     "data": {
      "text/html": [
       "<div>\n",
       "<style scoped>\n",
       "    .dataframe tbody tr th:only-of-type {\n",
       "        vertical-align: middle;\n",
       "    }\n",
       "\n",
       "    .dataframe tbody tr th {\n",
       "        vertical-align: top;\n",
       "    }\n",
       "\n",
       "    .dataframe thead th {\n",
       "        text-align: right;\n",
       "    }\n",
       "</style>\n",
       "<table border=\"1\" class=\"dataframe\">\n",
       "  <thead>\n",
       "    <tr style=\"text-align: right;\">\n",
       "      <th></th>\n",
       "      <th>Brand</th>\n",
       "      <th>Current Price</th>\n",
       "      <th>Original Price</th>\n",
       "      <th>Discount Percentage</th>\n",
       "      <th>Rating</th>\n",
       "      <th>Number OF Ratings</th>\n",
       "      <th>Model Name</th>\n",
       "      <th>Dial Shape</th>\n",
       "      <th>Strap Color</th>\n",
       "      <th>Strap Material</th>\n",
       "      <th>Touchscreen</th>\n",
       "      <th>Battery Life (Days)</th>\n",
       "      <th>Bluetooth</th>\n",
       "      <th>Display Size</th>\n",
       "      <th>Weight</th>\n",
       "    </tr>\n",
       "  </thead>\n",
       "  <tbody>\n",
       "    <tr>\n",
       "      <th>0</th>\n",
       "      <td>noise</td>\n",
       "      <td>82990.0</td>\n",
       "      <td>89900.0</td>\n",
       "      <td>7.686318</td>\n",
       "      <td>4.0</td>\n",
       "      <td>65.0</td>\n",
       "      <td>Wrb-sw-colorfitpro4alpha-std-rgld_pnk</td>\n",
       "      <td>NaN</td>\n",
       "      <td>NaN</td>\n",
       "      <td>NaN</td>\n",
       "      <td>NaN</td>\n",
       "      <td>8.0</td>\n",
       "      <td>Yes</td>\n",
       "      <td>NaN</td>\n",
       "      <td>35 - 50 g</td>\n",
       "    </tr>\n",
       "    <tr>\n",
       "      <th>1</th>\n",
       "      <td>fire-boltt</td>\n",
       "      <td>3799.0</td>\n",
       "      <td>16999.0</td>\n",
       "      <td>77.651627</td>\n",
       "      <td>4.3</td>\n",
       "      <td>20788.0</td>\n",
       "      <td>BSW046</td>\n",
       "      <td>NaN</td>\n",
       "      <td>NaN</td>\n",
       "      <td>Silicon</td>\n",
       "      <td>Yes</td>\n",
       "      <td>3.5</td>\n",
       "      <td>Yes</td>\n",
       "      <td>1.8 inches</td>\n",
       "      <td>50 - 75 g</td>\n",
       "    </tr>\n",
       "    <tr>\n",
       "      <th>2</th>\n",
       "      <td>boat</td>\n",
       "      <td>1999.0</td>\n",
       "      <td>7990.0</td>\n",
       "      <td>74.981227</td>\n",
       "      <td>3.8</td>\n",
       "      <td>21724.0</td>\n",
       "      <td>Wave Call</td>\n",
       "      <td>NaN</td>\n",
       "      <td>NaN</td>\n",
       "      <td>Silicon</td>\n",
       "      <td>Yes</td>\n",
       "      <td>8.0</td>\n",
       "      <td>Yes</td>\n",
       "      <td>1.7 inches</td>\n",
       "      <td>35 - 50 g</td>\n",
       "    </tr>\n",
       "    <tr>\n",
       "      <th>3</th>\n",
       "      <td>fire-boltt</td>\n",
       "      <td>1799.0</td>\n",
       "      <td>19999.0</td>\n",
       "      <td>91.004550</td>\n",
       "      <td>4.3</td>\n",
       "      <td>13244.0</td>\n",
       "      <td>BSW053</td>\n",
       "      <td>NaN</td>\n",
       "      <td>NaN</td>\n",
       "      <td>Silicon</td>\n",
       "      <td>Yes</td>\n",
       "      <td>3.5</td>\n",
       "      <td>Yes</td>\n",
       "      <td>1.8 inches</td>\n",
       "      <td>75g +</td>\n",
       "    </tr>\n",
       "    <tr>\n",
       "      <th>4</th>\n",
       "      <td>noise</td>\n",
       "      <td>1599.0</td>\n",
       "      <td>4999.0</td>\n",
       "      <td>68.013603</td>\n",
       "      <td>4.1</td>\n",
       "      <td>13901.0</td>\n",
       "      <td>Wrb-sw-colorfitpulsegobuzz-std-blk_blk</td>\n",
       "      <td>NaN</td>\n",
       "      <td>NaN</td>\n",
       "      <td>Other</td>\n",
       "      <td>Yes</td>\n",
       "      <td>8.0</td>\n",
       "      <td>Yes</td>\n",
       "      <td>1.7 inches</td>\n",
       "      <td>35 - 50 g</td>\n",
       "    </tr>\n",
       "  </tbody>\n",
       "</table>\n",
       "</div>"
      ],
      "text/plain": [
       "        Brand  Current Price  Original Price  Discount Percentage  Rating  \\\n",
       "0       noise        82990.0         89900.0             7.686318     4.0   \n",
       "1  fire-boltt         3799.0         16999.0            77.651627     4.3   \n",
       "2        boat         1999.0          7990.0            74.981227     3.8   \n",
       "3  fire-boltt         1799.0         19999.0            91.004550     4.3   \n",
       "4       noise         1599.0          4999.0            68.013603     4.1   \n",
       "\n",
       "   Number OF Ratings                              Model Name Dial Shape  \\\n",
       "0               65.0   Wrb-sw-colorfitpro4alpha-std-rgld_pnk        NaN   \n",
       "1            20788.0                                  BSW046        NaN   \n",
       "2            21724.0                               Wave Call        NaN   \n",
       "3            13244.0                                  BSW053        NaN   \n",
       "4            13901.0  Wrb-sw-colorfitpulsegobuzz-std-blk_blk        NaN   \n",
       "\n",
       "  Strap Color Strap Material Touchscreen  Battery Life (Days) Bluetooth  \\\n",
       "0         NaN            NaN         NaN                  8.0       Yes   \n",
       "1         NaN        Silicon         Yes                  3.5       Yes   \n",
       "2         NaN        Silicon         Yes                  8.0       Yes   \n",
       "3         NaN        Silicon         Yes                  3.5       Yes   \n",
       "4         NaN          Other         Yes                  8.0       Yes   \n",
       "\n",
       "  Display Size     Weight  \n",
       "0          NaN  35 - 50 g  \n",
       "1   1.8 inches  50 - 75 g  \n",
       "2   1.7 inches  35 - 50 g  \n",
       "3   1.8 inches      75g +  \n",
       "4   1.7 inches  35 - 50 g  "
      ]
     },
     "execution_count": 310,
     "metadata": {},
     "output_type": "execute_result"
    }
   ],
   "source": [
    "train_df.head()"
   ]
  },
  {
   "cell_type": "code",
   "execution_count": 311,
   "metadata": {},
   "outputs": [
    {
     "data": {
      "text/plain": [
       "30"
      ]
     },
     "execution_count": 311,
     "metadata": {},
     "output_type": "execute_result"
    }
   ],
   "source": [
    "train_df['Display Size'].isna().sum()"
   ]
  },
  {
   "cell_type": "code",
   "execution_count": 312,
   "metadata": {},
   "outputs": [
    {
     "data": {
      "text/plain": [
       "40"
      ]
     },
     "execution_count": 312,
     "metadata": {},
     "output_type": "execute_result"
    }
   ],
   "source": [
    "train_df['Display Size'].value_counts().count()"
   ]
  },
  {
   "cell_type": "code",
   "execution_count": 313,
   "metadata": {},
   "outputs": [
    {
     "name": "stderr",
     "output_type": "stream",
     "text": [
      "C:\\Users\\shibi\\AppData\\Local\\Temp\\ipykernel_19708\\2982374164.py:1: FutureWarning: A value is trying to be set on a copy of a DataFrame or Series through chained assignment using an inplace method.\n",
      "The behavior will change in pandas 3.0. This inplace method will never work because the intermediate object on which we are setting values always behaves as a copy.\n",
      "\n",
      "For example, when doing 'df[col].method(value, inplace=True)', try using 'df.method({col: value}, inplace=True)' or df[col] = df[col].method(value) instead, to perform the operation inplace on the original object.\n",
      "\n",
      "\n",
      "  train_df['Display Size'].fillna('0.0 inches', inplace=True)\n"
     ]
    }
   ],
   "source": [
    "train_df['Display Size'].fillna('0.0 inches', inplace=True)"
   ]
  },
  {
   "cell_type": "code",
   "execution_count": 314,
   "metadata": {},
   "outputs": [
    {
     "data": {
      "text/plain": [
       "0"
      ]
     },
     "execution_count": 314,
     "metadata": {},
     "output_type": "execute_result"
    }
   ],
   "source": [
    "train_df['Display Size'].isna().sum()"
   ]
  },
  {
   "cell_type": "code",
   "execution_count": 315,
   "metadata": {},
   "outputs": [],
   "source": [
    "train_df['Display Size'] = train_df['Display Size'].apply(lambda x: float(x.split()[0]))"
   ]
  },
  {
   "cell_type": "code",
   "execution_count": 316,
   "metadata": {},
   "outputs": [
    {
     "data": {
      "text/html": [
       "<div>\n",
       "<style scoped>\n",
       "    .dataframe tbody tr th:only-of-type {\n",
       "        vertical-align: middle;\n",
       "    }\n",
       "\n",
       "    .dataframe tbody tr th {\n",
       "        vertical-align: top;\n",
       "    }\n",
       "\n",
       "    .dataframe thead th {\n",
       "        text-align: right;\n",
       "    }\n",
       "</style>\n",
       "<table border=\"1\" class=\"dataframe\">\n",
       "  <thead>\n",
       "    <tr style=\"text-align: right;\">\n",
       "      <th></th>\n",
       "      <th>Brand</th>\n",
       "      <th>Current Price</th>\n",
       "      <th>Original Price</th>\n",
       "      <th>Discount Percentage</th>\n",
       "      <th>Rating</th>\n",
       "      <th>Number OF Ratings</th>\n",
       "      <th>Model Name</th>\n",
       "      <th>Dial Shape</th>\n",
       "      <th>Strap Color</th>\n",
       "      <th>Strap Material</th>\n",
       "      <th>Touchscreen</th>\n",
       "      <th>Battery Life (Days)</th>\n",
       "      <th>Bluetooth</th>\n",
       "      <th>Display Size</th>\n",
       "      <th>Weight</th>\n",
       "    </tr>\n",
       "  </thead>\n",
       "  <tbody>\n",
       "    <tr>\n",
       "      <th>0</th>\n",
       "      <td>noise</td>\n",
       "      <td>82990.0</td>\n",
       "      <td>89900.0</td>\n",
       "      <td>7.686318</td>\n",
       "      <td>4.0</td>\n",
       "      <td>65.0</td>\n",
       "      <td>Wrb-sw-colorfitpro4alpha-std-rgld_pnk</td>\n",
       "      <td>NaN</td>\n",
       "      <td>NaN</td>\n",
       "      <td>NaN</td>\n",
       "      <td>NaN</td>\n",
       "      <td>8.0</td>\n",
       "      <td>Yes</td>\n",
       "      <td>0.0</td>\n",
       "      <td>35 - 50 g</td>\n",
       "    </tr>\n",
       "    <tr>\n",
       "      <th>1</th>\n",
       "      <td>fire-boltt</td>\n",
       "      <td>3799.0</td>\n",
       "      <td>16999.0</td>\n",
       "      <td>77.651627</td>\n",
       "      <td>4.3</td>\n",
       "      <td>20788.0</td>\n",
       "      <td>BSW046</td>\n",
       "      <td>NaN</td>\n",
       "      <td>NaN</td>\n",
       "      <td>Silicon</td>\n",
       "      <td>Yes</td>\n",
       "      <td>3.5</td>\n",
       "      <td>Yes</td>\n",
       "      <td>1.8</td>\n",
       "      <td>50 - 75 g</td>\n",
       "    </tr>\n",
       "    <tr>\n",
       "      <th>2</th>\n",
       "      <td>boat</td>\n",
       "      <td>1999.0</td>\n",
       "      <td>7990.0</td>\n",
       "      <td>74.981227</td>\n",
       "      <td>3.8</td>\n",
       "      <td>21724.0</td>\n",
       "      <td>Wave Call</td>\n",
       "      <td>NaN</td>\n",
       "      <td>NaN</td>\n",
       "      <td>Silicon</td>\n",
       "      <td>Yes</td>\n",
       "      <td>8.0</td>\n",
       "      <td>Yes</td>\n",
       "      <td>1.7</td>\n",
       "      <td>35 - 50 g</td>\n",
       "    </tr>\n",
       "    <tr>\n",
       "      <th>3</th>\n",
       "      <td>fire-boltt</td>\n",
       "      <td>1799.0</td>\n",
       "      <td>19999.0</td>\n",
       "      <td>91.004550</td>\n",
       "      <td>4.3</td>\n",
       "      <td>13244.0</td>\n",
       "      <td>BSW053</td>\n",
       "      <td>NaN</td>\n",
       "      <td>NaN</td>\n",
       "      <td>Silicon</td>\n",
       "      <td>Yes</td>\n",
       "      <td>3.5</td>\n",
       "      <td>Yes</td>\n",
       "      <td>1.8</td>\n",
       "      <td>75g +</td>\n",
       "    </tr>\n",
       "    <tr>\n",
       "      <th>4</th>\n",
       "      <td>noise</td>\n",
       "      <td>1599.0</td>\n",
       "      <td>4999.0</td>\n",
       "      <td>68.013603</td>\n",
       "      <td>4.1</td>\n",
       "      <td>13901.0</td>\n",
       "      <td>Wrb-sw-colorfitpulsegobuzz-std-blk_blk</td>\n",
       "      <td>NaN</td>\n",
       "      <td>NaN</td>\n",
       "      <td>Other</td>\n",
       "      <td>Yes</td>\n",
       "      <td>8.0</td>\n",
       "      <td>Yes</td>\n",
       "      <td>1.7</td>\n",
       "      <td>35 - 50 g</td>\n",
       "    </tr>\n",
       "  </tbody>\n",
       "</table>\n",
       "</div>"
      ],
      "text/plain": [
       "        Brand  Current Price  Original Price  Discount Percentage  Rating  \\\n",
       "0       noise        82990.0         89900.0             7.686318     4.0   \n",
       "1  fire-boltt         3799.0         16999.0            77.651627     4.3   \n",
       "2        boat         1999.0          7990.0            74.981227     3.8   \n",
       "3  fire-boltt         1799.0         19999.0            91.004550     4.3   \n",
       "4       noise         1599.0          4999.0            68.013603     4.1   \n",
       "\n",
       "   Number OF Ratings                              Model Name Dial Shape  \\\n",
       "0               65.0   Wrb-sw-colorfitpro4alpha-std-rgld_pnk        NaN   \n",
       "1            20788.0                                  BSW046        NaN   \n",
       "2            21724.0                               Wave Call        NaN   \n",
       "3            13244.0                                  BSW053        NaN   \n",
       "4            13901.0  Wrb-sw-colorfitpulsegobuzz-std-blk_blk        NaN   \n",
       "\n",
       "  Strap Color Strap Material Touchscreen  Battery Life (Days) Bluetooth  \\\n",
       "0         NaN            NaN         NaN                  8.0       Yes   \n",
       "1         NaN        Silicon         Yes                  3.5       Yes   \n",
       "2         NaN        Silicon         Yes                  8.0       Yes   \n",
       "3         NaN        Silicon         Yes                  3.5       Yes   \n",
       "4         NaN          Other         Yes                  8.0       Yes   \n",
       "\n",
       "   Display Size     Weight  \n",
       "0           0.0  35 - 50 g  \n",
       "1           1.8  50 - 75 g  \n",
       "2           1.7  35 - 50 g  \n",
       "3           1.8      75g +  \n",
       "4           1.7  35 - 50 g  "
      ]
     },
     "execution_count": 316,
     "metadata": {},
     "output_type": "execute_result"
    }
   ],
   "source": [
    "train_df.head()"
   ]
  },
  {
   "cell_type": "code",
   "execution_count": 317,
   "metadata": {},
   "outputs": [
    {
     "name": "stderr",
     "output_type": "stream",
     "text": [
      "C:\\Users\\shibi\\AppData\\Local\\Temp\\ipykernel_19708\\1243258204.py:1: FutureWarning: A value is trying to be set on a copy of a DataFrame or Series through chained assignment using an inplace method.\n",
      "The behavior will change in pandas 3.0. This inplace method will never work because the intermediate object on which we are setting values always behaves as a copy.\n",
      "\n",
      "For example, when doing 'df[col].method(value, inplace=True)', try using 'df.method({col: value}, inplace=True)' or df[col] = df[col].method(value) instead, to perform the operation inplace on the original object.\n",
      "\n",
      "\n",
      "  train_df['Display Size'].replace(0.0, np.nan, inplace=True)\n"
     ]
    }
   ],
   "source": [
    "train_df['Display Size'].replace(0.0, np.nan, inplace=True)"
   ]
  },
  {
   "cell_type": "code",
   "execution_count": 318,
   "metadata": {},
   "outputs": [
    {
     "data": {
      "text/plain": [
       "31"
      ]
     },
     "execution_count": 318,
     "metadata": {},
     "output_type": "execute_result"
    }
   ],
   "source": [
    "train_df['Display Size'].isna().sum()"
   ]
  },
  {
   "cell_type": "code",
   "execution_count": 319,
   "metadata": {},
   "outputs": [
    {
     "data": {
      "text/plain": [
       "0    35 - 50 g\n",
       "1    50 - 75 g\n",
       "2    35 - 50 g\n",
       "3        75g +\n",
       "4    35 - 50 g\n",
       "Name: Weight, dtype: object"
      ]
     },
     "execution_count": 319,
     "metadata": {},
     "output_type": "execute_result"
    }
   ],
   "source": [
    "train_df['Weight'].head()"
   ]
  },
  {
   "cell_type": "code",
   "execution_count": 320,
   "metadata": {},
   "outputs": [
    {
     "data": {
      "text/plain": [
       "Weight\n",
       "20 - 35 g    80\n",
       "75g +        66\n",
       "35 - 50 g    58\n",
       "<= 20 g      43\n",
       "50 - 75 g    17\n",
       "Name: count, dtype: int64"
      ]
     },
     "execution_count": 320,
     "metadata": {},
     "output_type": "execute_result"
    }
   ],
   "source": [
    "train_df['Weight'].value_counts()"
   ]
  },
  {
   "cell_type": "code",
   "execution_count": 321,
   "metadata": {},
   "outputs": [],
   "source": [
    "def cal(format):\n",
    "    cal = sum(int(x) for x in re.findall('\\d+', format)) / 2\n",
    "    train_df['Weight'].replace(format, cal, inplace=True)\n",
    "    \n"
   ]
  },
  {
   "cell_type": "code",
   "execution_count": 322,
   "metadata": {},
   "outputs": [
    {
     "name": "stderr",
     "output_type": "stream",
     "text": [
      "C:\\Users\\shibi\\AppData\\Local\\Temp\\ipykernel_19708\\700520874.py:3: FutureWarning: A value is trying to be set on a copy of a DataFrame or Series through chained assignment using an inplace method.\n",
      "The behavior will change in pandas 3.0. This inplace method will never work because the intermediate object on which we are setting values always behaves as a copy.\n",
      "\n",
      "For example, when doing 'df[col].method(value, inplace=True)', try using 'df.method({col: value}, inplace=True)' or df[col] = df[col].method(value) instead, to perform the operation inplace on the original object.\n",
      "\n",
      "\n",
      "  train_df['Weight'].replace(format, cal, inplace=True)\n"
     ]
    }
   ],
   "source": [
    "cal('20 - 35 g')\n",
    "cal('35 - 50 g')\n",
    "cal('50 - 75 g')"
   ]
  },
  {
   "cell_type": "code",
   "execution_count": null,
   "metadata": {},
   "outputs": [],
   "source": []
  },
  {
   "cell_type": "code",
   "execution_count": 323,
   "metadata": {},
   "outputs": [
    {
     "name": "stderr",
     "output_type": "stream",
     "text": [
      "C:\\Users\\shibi\\AppData\\Local\\Temp\\ipykernel_19708\\3271034506.py:1: FutureWarning: A value is trying to be set on a copy of a DataFrame or Series through chained assignment using an inplace method.\n",
      "The behavior will change in pandas 3.0. This inplace method will never work because the intermediate object on which we are setting values always behaves as a copy.\n",
      "\n",
      "For example, when doing 'df[col].method(value, inplace=True)', try using 'df.method({col: value}, inplace=True)' or df[col] = df[col].method(value) instead, to perform the operation inplace on the original object.\n",
      "\n",
      "\n",
      "  train_df['Weight'].replace('75g +', float(re.findall('\\d+', '75g +')[0]), inplace=True)\n"
     ]
    }
   ],
   "source": [
    "train_df['Weight'].replace('75g +', float(re.findall('\\d+', '75g +')[0]), inplace=True)"
   ]
  },
  {
   "cell_type": "code",
   "execution_count": 324,
   "metadata": {},
   "outputs": [
    {
     "name": "stderr",
     "output_type": "stream",
     "text": [
      "C:\\Users\\shibi\\AppData\\Local\\Temp\\ipykernel_19708\\1289372860.py:1: FutureWarning: A value is trying to be set on a copy of a DataFrame or Series through chained assignment using an inplace method.\n",
      "The behavior will change in pandas 3.0. This inplace method will never work because the intermediate object on which we are setting values always behaves as a copy.\n",
      "\n",
      "For example, when doing 'df[col].method(value, inplace=True)', try using 'df.method({col: value}, inplace=True)' or df[col] = df[col].method(value) instead, to perform the operation inplace on the original object.\n",
      "\n",
      "\n",
      "  train_df['Weight'].replace('<= 20 g', float(re.findall('\\d+', '<= 20 g')[0]), inplace=True)\n",
      "C:\\Users\\shibi\\AppData\\Local\\Temp\\ipykernel_19708\\1289372860.py:1: FutureWarning: Downcasting behavior in `replace` is deprecated and will be removed in a future version. To retain the old behavior, explicitly call `result.infer_objects(copy=False)`. To opt-in to the future behavior, set `pd.set_option('future.no_silent_downcasting', True)`\n",
      "  train_df['Weight'].replace('<= 20 g', float(re.findall('\\d+', '<= 20 g')[0]), inplace=True)\n"
     ]
    }
   ],
   "source": [
    "train_df['Weight'].replace('<= 20 g', float(re.findall('\\d+', '<= 20 g')[0]), inplace=True)"
   ]
  },
  {
   "cell_type": "code",
   "execution_count": 325,
   "metadata": {},
   "outputs": [
    {
     "data": {
      "text/plain": [
       "Weight\n",
       "27.5    80\n",
       "75.0    66\n",
       "42.5    58\n",
       "20.0    43\n",
       "62.5    17\n",
       "Name: count, dtype: int64"
      ]
     },
     "execution_count": 325,
     "metadata": {},
     "output_type": "execute_result"
    }
   ],
   "source": [
    "train_df['Weight'].value_counts()"
   ]
  },
  {
   "cell_type": "code",
   "execution_count": 326,
   "metadata": {},
   "outputs": [
    {
     "name": "stdout",
     "output_type": "stream",
     "text": [
      "<class 'pandas.core.frame.DataFrame'>\n",
      "RangeIndex: 450 entries, 0 to 449\n",
      "Data columns (total 15 columns):\n",
      " #   Column               Non-Null Count  Dtype  \n",
      "---  ------               --------------  -----  \n",
      " 0   Brand                450 non-null    object \n",
      " 1   Current Price        440 non-null    float64\n",
      " 2   Original Price       377 non-null    float64\n",
      " 3   Discount Percentage  377 non-null    float64\n",
      " 4   Rating               444 non-null    float64\n",
      " 5   Number OF Ratings    391 non-null    float64\n",
      " 6   Model Name           415 non-null    object \n",
      " 7   Dial Shape           327 non-null    object \n",
      " 8   Strap Color          327 non-null    object \n",
      " 9   Strap Material       381 non-null    object \n",
      " 10  Touchscreen          413 non-null    object \n",
      " 11  Battery Life (Days)  418 non-null    float64\n",
      " 12  Bluetooth            444 non-null    object \n",
      " 13  Display Size         419 non-null    float64\n",
      " 14  Weight               264 non-null    float64\n",
      "dtypes: float64(8), object(7)\n",
      "memory usage: 52.9+ KB\n"
     ]
    }
   ],
   "source": [
    "train_df.info()"
   ]
  },
  {
   "cell_type": "code",
   "execution_count": 327,
   "metadata": {},
   "outputs": [
    {
     "data": {
      "text/html": [
       "<div>\n",
       "<style scoped>\n",
       "    .dataframe tbody tr th:only-of-type {\n",
       "        vertical-align: middle;\n",
       "    }\n",
       "\n",
       "    .dataframe tbody tr th {\n",
       "        vertical-align: top;\n",
       "    }\n",
       "\n",
       "    .dataframe thead th {\n",
       "        text-align: right;\n",
       "    }\n",
       "</style>\n",
       "<table border=\"1\" class=\"dataframe\">\n",
       "  <thead>\n",
       "    <tr style=\"text-align: right;\">\n",
       "      <th></th>\n",
       "      <th>Brand</th>\n",
       "      <th>Current Price</th>\n",
       "      <th>Original Price</th>\n",
       "      <th>Discount Percentage</th>\n",
       "      <th>Rating</th>\n",
       "      <th>Number OF Ratings</th>\n",
       "      <th>Model Name</th>\n",
       "      <th>Dial Shape</th>\n",
       "      <th>Strap Color</th>\n",
       "      <th>Strap Material</th>\n",
       "      <th>Touchscreen</th>\n",
       "      <th>Battery Life (Days)</th>\n",
       "      <th>Bluetooth</th>\n",
       "      <th>Display Size</th>\n",
       "      <th>Weight</th>\n",
       "    </tr>\n",
       "  </thead>\n",
       "  <tbody>\n",
       "    <tr>\n",
       "      <th>0</th>\n",
       "      <td>noise</td>\n",
       "      <td>82990.0</td>\n",
       "      <td>89900.0</td>\n",
       "      <td>7.686318</td>\n",
       "      <td>4.0</td>\n",
       "      <td>65.0</td>\n",
       "      <td>Wrb-sw-colorfitpro4alpha-std-rgld_pnk</td>\n",
       "      <td>NaN</td>\n",
       "      <td>NaN</td>\n",
       "      <td>NaN</td>\n",
       "      <td>NaN</td>\n",
       "      <td>8.0</td>\n",
       "      <td>Yes</td>\n",
       "      <td>NaN</td>\n",
       "      <td>42.5</td>\n",
       "    </tr>\n",
       "    <tr>\n",
       "      <th>1</th>\n",
       "      <td>fire-boltt</td>\n",
       "      <td>3799.0</td>\n",
       "      <td>16999.0</td>\n",
       "      <td>77.651627</td>\n",
       "      <td>4.3</td>\n",
       "      <td>20788.0</td>\n",
       "      <td>BSW046</td>\n",
       "      <td>NaN</td>\n",
       "      <td>NaN</td>\n",
       "      <td>Silicon</td>\n",
       "      <td>Yes</td>\n",
       "      <td>3.5</td>\n",
       "      <td>Yes</td>\n",
       "      <td>1.8</td>\n",
       "      <td>62.5</td>\n",
       "    </tr>\n",
       "    <tr>\n",
       "      <th>2</th>\n",
       "      <td>boat</td>\n",
       "      <td>1999.0</td>\n",
       "      <td>7990.0</td>\n",
       "      <td>74.981227</td>\n",
       "      <td>3.8</td>\n",
       "      <td>21724.0</td>\n",
       "      <td>Wave Call</td>\n",
       "      <td>NaN</td>\n",
       "      <td>NaN</td>\n",
       "      <td>Silicon</td>\n",
       "      <td>Yes</td>\n",
       "      <td>8.0</td>\n",
       "      <td>Yes</td>\n",
       "      <td>1.7</td>\n",
       "      <td>42.5</td>\n",
       "    </tr>\n",
       "    <tr>\n",
       "      <th>3</th>\n",
       "      <td>fire-boltt</td>\n",
       "      <td>1799.0</td>\n",
       "      <td>19999.0</td>\n",
       "      <td>91.004550</td>\n",
       "      <td>4.3</td>\n",
       "      <td>13244.0</td>\n",
       "      <td>BSW053</td>\n",
       "      <td>NaN</td>\n",
       "      <td>NaN</td>\n",
       "      <td>Silicon</td>\n",
       "      <td>Yes</td>\n",
       "      <td>3.5</td>\n",
       "      <td>Yes</td>\n",
       "      <td>1.8</td>\n",
       "      <td>75.0</td>\n",
       "    </tr>\n",
       "    <tr>\n",
       "      <th>4</th>\n",
       "      <td>noise</td>\n",
       "      <td>1599.0</td>\n",
       "      <td>4999.0</td>\n",
       "      <td>68.013603</td>\n",
       "      <td>4.1</td>\n",
       "      <td>13901.0</td>\n",
       "      <td>Wrb-sw-colorfitpulsegobuzz-std-blk_blk</td>\n",
       "      <td>NaN</td>\n",
       "      <td>NaN</td>\n",
       "      <td>Other</td>\n",
       "      <td>Yes</td>\n",
       "      <td>8.0</td>\n",
       "      <td>Yes</td>\n",
       "      <td>1.7</td>\n",
       "      <td>42.5</td>\n",
       "    </tr>\n",
       "  </tbody>\n",
       "</table>\n",
       "</div>"
      ],
      "text/plain": [
       "        Brand  Current Price  Original Price  Discount Percentage  Rating  \\\n",
       "0       noise        82990.0         89900.0             7.686318     4.0   \n",
       "1  fire-boltt         3799.0         16999.0            77.651627     4.3   \n",
       "2        boat         1999.0          7990.0            74.981227     3.8   \n",
       "3  fire-boltt         1799.0         19999.0            91.004550     4.3   \n",
       "4       noise         1599.0          4999.0            68.013603     4.1   \n",
       "\n",
       "   Number OF Ratings                              Model Name Dial Shape  \\\n",
       "0               65.0   Wrb-sw-colorfitpro4alpha-std-rgld_pnk        NaN   \n",
       "1            20788.0                                  BSW046        NaN   \n",
       "2            21724.0                               Wave Call        NaN   \n",
       "3            13244.0                                  BSW053        NaN   \n",
       "4            13901.0  Wrb-sw-colorfitpulsegobuzz-std-blk_blk        NaN   \n",
       "\n",
       "  Strap Color Strap Material Touchscreen  Battery Life (Days) Bluetooth  \\\n",
       "0         NaN            NaN         NaN                  8.0       Yes   \n",
       "1         NaN        Silicon         Yes                  3.5       Yes   \n",
       "2         NaN        Silicon         Yes                  8.0       Yes   \n",
       "3         NaN        Silicon         Yes                  3.5       Yes   \n",
       "4         NaN          Other         Yes                  8.0       Yes   \n",
       "\n",
       "   Display Size  Weight  \n",
       "0           NaN    42.5  \n",
       "1           1.8    62.5  \n",
       "2           1.7    42.5  \n",
       "3           1.8    75.0  \n",
       "4           1.7    42.5  "
      ]
     },
     "execution_count": 327,
     "metadata": {},
     "output_type": "execute_result"
    }
   ],
   "source": [
    "train_df.head()"
   ]
  },
  {
   "cell_type": "code",
   "execution_count": 328,
   "metadata": {},
   "outputs": [],
   "source": [
    "train_df['Discount Price']=(train_df['Original Price'] * (-train_df['Discount Percentage'])) / 100"
   ]
  },
  {
   "cell_type": "code",
   "execution_count": 329,
   "metadata": {},
   "outputs": [],
   "source": [
    "train_df.drop(['Discount Percentage'], axis=1, inplace=True)"
   ]
  },
  {
   "cell_type": "code",
   "execution_count": 330,
   "metadata": {},
   "outputs": [
    {
     "data": {
      "text/html": [
       "<div>\n",
       "<style scoped>\n",
       "    .dataframe tbody tr th:only-of-type {\n",
       "        vertical-align: middle;\n",
       "    }\n",
       "\n",
       "    .dataframe tbody tr th {\n",
       "        vertical-align: top;\n",
       "    }\n",
       "\n",
       "    .dataframe thead th {\n",
       "        text-align: right;\n",
       "    }\n",
       "</style>\n",
       "<table border=\"1\" class=\"dataframe\">\n",
       "  <thead>\n",
       "    <tr style=\"text-align: right;\">\n",
       "      <th></th>\n",
       "      <th>Brand</th>\n",
       "      <th>Current Price</th>\n",
       "      <th>Original Price</th>\n",
       "      <th>Rating</th>\n",
       "      <th>Number OF Ratings</th>\n",
       "      <th>Model Name</th>\n",
       "      <th>Dial Shape</th>\n",
       "      <th>Strap Color</th>\n",
       "      <th>Strap Material</th>\n",
       "      <th>Touchscreen</th>\n",
       "      <th>Battery Life (Days)</th>\n",
       "      <th>Bluetooth</th>\n",
       "      <th>Display Size</th>\n",
       "      <th>Weight</th>\n",
       "      <th>Discount Price</th>\n",
       "    </tr>\n",
       "  </thead>\n",
       "  <tbody>\n",
       "    <tr>\n",
       "      <th>0</th>\n",
       "      <td>noise</td>\n",
       "      <td>82990.0</td>\n",
       "      <td>89900.0</td>\n",
       "      <td>4.0</td>\n",
       "      <td>65.0</td>\n",
       "      <td>Wrb-sw-colorfitpro4alpha-std-rgld_pnk</td>\n",
       "      <td>NaN</td>\n",
       "      <td>NaN</td>\n",
       "      <td>NaN</td>\n",
       "      <td>NaN</td>\n",
       "      <td>8.0</td>\n",
       "      <td>Yes</td>\n",
       "      <td>NaN</td>\n",
       "      <td>42.5</td>\n",
       "      <td>-6910.000000</td>\n",
       "    </tr>\n",
       "    <tr>\n",
       "      <th>1</th>\n",
       "      <td>fire-boltt</td>\n",
       "      <td>3799.0</td>\n",
       "      <td>16999.0</td>\n",
       "      <td>4.3</td>\n",
       "      <td>20788.0</td>\n",
       "      <td>BSW046</td>\n",
       "      <td>NaN</td>\n",
       "      <td>NaN</td>\n",
       "      <td>Silicon</td>\n",
       "      <td>Yes</td>\n",
       "      <td>3.5</td>\n",
       "      <td>Yes</td>\n",
       "      <td>1.8</td>\n",
       "      <td>62.5</td>\n",
       "      <td>-13200.000001</td>\n",
       "    </tr>\n",
       "    <tr>\n",
       "      <th>2</th>\n",
       "      <td>boat</td>\n",
       "      <td>1999.0</td>\n",
       "      <td>7990.0</td>\n",
       "      <td>3.8</td>\n",
       "      <td>21724.0</td>\n",
       "      <td>Wave Call</td>\n",
       "      <td>NaN</td>\n",
       "      <td>NaN</td>\n",
       "      <td>Silicon</td>\n",
       "      <td>Yes</td>\n",
       "      <td>8.0</td>\n",
       "      <td>Yes</td>\n",
       "      <td>1.7</td>\n",
       "      <td>42.5</td>\n",
       "      <td>-5991.000000</td>\n",
       "    </tr>\n",
       "    <tr>\n",
       "      <th>3</th>\n",
       "      <td>fire-boltt</td>\n",
       "      <td>1799.0</td>\n",
       "      <td>19999.0</td>\n",
       "      <td>4.3</td>\n",
       "      <td>13244.0</td>\n",
       "      <td>BSW053</td>\n",
       "      <td>NaN</td>\n",
       "      <td>NaN</td>\n",
       "      <td>Silicon</td>\n",
       "      <td>Yes</td>\n",
       "      <td>3.5</td>\n",
       "      <td>Yes</td>\n",
       "      <td>1.8</td>\n",
       "      <td>75.0</td>\n",
       "      <td>-18200.000000</td>\n",
       "    </tr>\n",
       "    <tr>\n",
       "      <th>4</th>\n",
       "      <td>noise</td>\n",
       "      <td>1599.0</td>\n",
       "      <td>4999.0</td>\n",
       "      <td>4.1</td>\n",
       "      <td>13901.0</td>\n",
       "      <td>Wrb-sw-colorfitpulsegobuzz-std-blk_blk</td>\n",
       "      <td>NaN</td>\n",
       "      <td>NaN</td>\n",
       "      <td>Other</td>\n",
       "      <td>Yes</td>\n",
       "      <td>8.0</td>\n",
       "      <td>Yes</td>\n",
       "      <td>1.7</td>\n",
       "      <td>42.5</td>\n",
       "      <td>-3400.000000</td>\n",
       "    </tr>\n",
       "  </tbody>\n",
       "</table>\n",
       "</div>"
      ],
      "text/plain": [
       "        Brand  Current Price  Original Price  Rating  Number OF Ratings  \\\n",
       "0       noise        82990.0         89900.0     4.0               65.0   \n",
       "1  fire-boltt         3799.0         16999.0     4.3            20788.0   \n",
       "2        boat         1999.0          7990.0     3.8            21724.0   \n",
       "3  fire-boltt         1799.0         19999.0     4.3            13244.0   \n",
       "4       noise         1599.0          4999.0     4.1            13901.0   \n",
       "\n",
       "                               Model Name Dial Shape Strap Color  \\\n",
       "0   Wrb-sw-colorfitpro4alpha-std-rgld_pnk        NaN         NaN   \n",
       "1                                  BSW046        NaN         NaN   \n",
       "2                               Wave Call        NaN         NaN   \n",
       "3                                  BSW053        NaN         NaN   \n",
       "4  Wrb-sw-colorfitpulsegobuzz-std-blk_blk        NaN         NaN   \n",
       "\n",
       "  Strap Material Touchscreen  Battery Life (Days) Bluetooth  Display Size  \\\n",
       "0            NaN         NaN                  8.0       Yes           NaN   \n",
       "1        Silicon         Yes                  3.5       Yes           1.8   \n",
       "2        Silicon         Yes                  8.0       Yes           1.7   \n",
       "3        Silicon         Yes                  3.5       Yes           1.8   \n",
       "4          Other         Yes                  8.0       Yes           1.7   \n",
       "\n",
       "   Weight  Discount Price  \n",
       "0    42.5    -6910.000000  \n",
       "1    62.5   -13200.000001  \n",
       "2    42.5    -5991.000000  \n",
       "3    75.0   -18200.000000  \n",
       "4    42.5    -3400.000000  "
      ]
     },
     "execution_count": 330,
     "metadata": {},
     "output_type": "execute_result"
    }
   ],
   "source": [
    "train_df.head()"
   ]
  },
  {
   "cell_type": "code",
   "execution_count": 331,
   "metadata": {},
   "outputs": [
    {
     "data": {
      "text/plain": [
       "['Current Price',\n",
       " 'Original Price',\n",
       " 'Rating',\n",
       " 'Number OF Ratings',\n",
       " 'Battery Life (Days)',\n",
       " 'Display Size',\n",
       " 'Weight',\n",
       " 'Discount Price']"
      ]
     },
     "execution_count": 331,
     "metadata": {},
     "output_type": "execute_result"
    }
   ],
   "source": [
    "numerical_col = [feature for feature in train_df.columns if train_df[feature].dtype != 'object']\n",
    "numerical_col"
   ]
  },
  {
   "cell_type": "code",
   "execution_count": 332,
   "metadata": {},
   "outputs": [
    {
     "data": {
      "text/plain": [
       "['Brand',\n",
       " 'Model Name',\n",
       " 'Dial Shape',\n",
       " 'Strap Color',\n",
       " 'Strap Material',\n",
       " 'Touchscreen',\n",
       " 'Bluetooth']"
      ]
     },
     "execution_count": 332,
     "metadata": {},
     "output_type": "execute_result"
    }
   ],
   "source": [
    "categorical_col = [feature for feature in train_df.columns if train_df[feature].dtype == 'object']\n",
    "categorical_col"
   ]
  },
  {
   "cell_type": "code",
   "execution_count": 333,
   "metadata": {},
   "outputs": [
    {
     "data": {
      "text/html": [
       "<div>\n",
       "<style scoped>\n",
       "    .dataframe tbody tr th:only-of-type {\n",
       "        vertical-align: middle;\n",
       "    }\n",
       "\n",
       "    .dataframe tbody tr th {\n",
       "        vertical-align: top;\n",
       "    }\n",
       "\n",
       "    .dataframe thead th {\n",
       "        text-align: right;\n",
       "    }\n",
       "</style>\n",
       "<table border=\"1\" class=\"dataframe\">\n",
       "  <thead>\n",
       "    <tr style=\"text-align: right;\">\n",
       "      <th></th>\n",
       "      <th>Current Price</th>\n",
       "      <th>Original Price</th>\n",
       "      <th>Rating</th>\n",
       "      <th>Number OF Ratings</th>\n",
       "      <th>Battery Life (Days)</th>\n",
       "      <th>Display Size</th>\n",
       "      <th>Weight</th>\n",
       "      <th>Discount Price</th>\n",
       "    </tr>\n",
       "  </thead>\n",
       "  <tbody>\n",
       "    <tr>\n",
       "      <th>0</th>\n",
       "      <td>82990.0</td>\n",
       "      <td>89900.0</td>\n",
       "      <td>4.0</td>\n",
       "      <td>65.0</td>\n",
       "      <td>8.0</td>\n",
       "      <td>NaN</td>\n",
       "      <td>42.5</td>\n",
       "      <td>-6910.000000</td>\n",
       "    </tr>\n",
       "    <tr>\n",
       "      <th>1</th>\n",
       "      <td>3799.0</td>\n",
       "      <td>16999.0</td>\n",
       "      <td>4.3</td>\n",
       "      <td>20788.0</td>\n",
       "      <td>3.5</td>\n",
       "      <td>1.8</td>\n",
       "      <td>62.5</td>\n",
       "      <td>-13200.000001</td>\n",
       "    </tr>\n",
       "    <tr>\n",
       "      <th>2</th>\n",
       "      <td>1999.0</td>\n",
       "      <td>7990.0</td>\n",
       "      <td>3.8</td>\n",
       "      <td>21724.0</td>\n",
       "      <td>8.0</td>\n",
       "      <td>1.7</td>\n",
       "      <td>42.5</td>\n",
       "      <td>-5991.000000</td>\n",
       "    </tr>\n",
       "    <tr>\n",
       "      <th>3</th>\n",
       "      <td>1799.0</td>\n",
       "      <td>19999.0</td>\n",
       "      <td>4.3</td>\n",
       "      <td>13244.0</td>\n",
       "      <td>3.5</td>\n",
       "      <td>1.8</td>\n",
       "      <td>75.0</td>\n",
       "      <td>-18200.000000</td>\n",
       "    </tr>\n",
       "    <tr>\n",
       "      <th>4</th>\n",
       "      <td>1599.0</td>\n",
       "      <td>4999.0</td>\n",
       "      <td>4.1</td>\n",
       "      <td>13901.0</td>\n",
       "      <td>8.0</td>\n",
       "      <td>1.7</td>\n",
       "      <td>42.5</td>\n",
       "      <td>-3400.000000</td>\n",
       "    </tr>\n",
       "  </tbody>\n",
       "</table>\n",
       "</div>"
      ],
      "text/plain": [
       "   Current Price  Original Price  Rating  Number OF Ratings  \\\n",
       "0        82990.0         89900.0     4.0               65.0   \n",
       "1         3799.0         16999.0     4.3            20788.0   \n",
       "2         1999.0          7990.0     3.8            21724.0   \n",
       "3         1799.0         19999.0     4.3            13244.0   \n",
       "4         1599.0          4999.0     4.1            13901.0   \n",
       "\n",
       "   Battery Life (Days)  Display Size  Weight  Discount Price  \n",
       "0                  8.0           NaN    42.5    -6910.000000  \n",
       "1                  3.5           1.8    62.5   -13200.000001  \n",
       "2                  8.0           1.7    42.5    -5991.000000  \n",
       "3                  3.5           1.8    75.0   -18200.000000  \n",
       "4                  8.0           1.7    42.5    -3400.000000  "
      ]
     },
     "execution_count": 333,
     "metadata": {},
     "output_type": "execute_result"
    }
   ],
   "source": [
    "train_df[numerical_col].head()"
   ]
  },
  {
   "cell_type": "code",
   "execution_count": 334,
   "metadata": {},
   "outputs": [
    {
     "name": "stderr",
     "output_type": "stream",
     "text": [
      "c:\\Users\\shibi\\anaconda3\\envs\\watchprice\\lib\\site-packages\\seaborn\\_oldcore.py:1119: FutureWarning: use_inf_as_na option is deprecated and will be removed in a future version. Convert inf values to NaN before operating instead.\n",
      "  with pd.option_context('mode.use_inf_as_na', True):\n",
      "c:\\Users\\shibi\\anaconda3\\envs\\watchprice\\lib\\site-packages\\seaborn\\_oldcore.py:1119: FutureWarning: use_inf_as_na option is deprecated and will be removed in a future version. Convert inf values to NaN before operating instead.\n",
      "  with pd.option_context('mode.use_inf_as_na', True):\n",
      "c:\\Users\\shibi\\anaconda3\\envs\\watchprice\\lib\\site-packages\\seaborn\\_oldcore.py:1119: FutureWarning: use_inf_as_na option is deprecated and will be removed in a future version. Convert inf values to NaN before operating instead.\n",
      "  with pd.option_context('mode.use_inf_as_na', True):\n",
      "c:\\Users\\shibi\\anaconda3\\envs\\watchprice\\lib\\site-packages\\seaborn\\_oldcore.py:1119: FutureWarning: use_inf_as_na option is deprecated and will be removed in a future version. Convert inf values to NaN before operating instead.\n",
      "  with pd.option_context('mode.use_inf_as_na', True):\n",
      "c:\\Users\\shibi\\anaconda3\\envs\\watchprice\\lib\\site-packages\\seaborn\\_oldcore.py:1119: FutureWarning: use_inf_as_na option is deprecated and will be removed in a future version. Convert inf values to NaN before operating instead.\n",
      "  with pd.option_context('mode.use_inf_as_na', True):\n",
      "c:\\Users\\shibi\\anaconda3\\envs\\watchprice\\lib\\site-packages\\seaborn\\_oldcore.py:1119: FutureWarning: use_inf_as_na option is deprecated and will be removed in a future version. Convert inf values to NaN before operating instead.\n",
      "  with pd.option_context('mode.use_inf_as_na', True):\n",
      "c:\\Users\\shibi\\anaconda3\\envs\\watchprice\\lib\\site-packages\\seaborn\\_oldcore.py:1119: FutureWarning: use_inf_as_na option is deprecated and will be removed in a future version. Convert inf values to NaN before operating instead.\n",
      "  with pd.option_context('mode.use_inf_as_na', True):\n",
      "c:\\Users\\shibi\\anaconda3\\envs\\watchprice\\lib\\site-packages\\seaborn\\_oldcore.py:1119: FutureWarning: use_inf_as_na option is deprecated and will be removed in a future version. Convert inf values to NaN before operating instead.\n",
      "  with pd.option_context('mode.use_inf_as_na', True):\n"
     ]
    },
    {
     "data": {
      "image/png": "[encoded data removed]",
      "text/plain": [
       "<Figure size 1400x1000 with 9 Axes>"
      ]
     },
     "metadata": {},
     "output_type": "display_data"
    }
   ],
   "source": [
    "fig, axes = plt.subplots(nrows=3, ncols=3, figsize=(14, 10))\n",
    "\n",
    "for i, colum in enumerate(numerical_col):\n",
    "    row = i // 3\n",
    "    col = i % 3\n",
    "    ax= axes[row, col]\n",
    "    sns.kdeplot(data=train_df[colum], ax=ax, fill=True)\n",
    "    ax.set_xlabel(colum)\n",
    "\n",
    "fig.tight_layout()\n",
    "plt.show()"
   ]
  },
  {
   "cell_type": "code",
   "execution_count": 335,
   "metadata": {},
   "outputs": [
    {
     "data": {
      "image/png": "[encoded data removed]",
      "text/plain": [
       "<Figure size 1400x1000 with 9 Axes>"
      ]
     },
     "metadata": {},
     "output_type": "display_data"
    }
   ],
   "source": [
    "fig, axes = plt.subplots(nrows=3, ncols=3, figsize=(14, 10))\n",
    "\n",
    "for i, colum in enumerate(numerical_col):\n",
    "    row = i // 3\n",
    "    col = i % 3\n",
    "    ax= axes[row, col]\n",
    "    sns.boxplot(x=train_df[colum], ax=ax)\n",
    "    ax.set_xlabel(colum)\n",
    "\n",
    "fig.tight_layout()\n",
    "plt.show()"
   ]
  },
  {
   "cell_type": "code",
   "execution_count": 336,
   "metadata": {},
   "outputs": [],
   "source": [
    "def remove_outliers_IQR(data, col):\n",
    "    Q1 = data[col].quantile(0.25)\n",
    "    Q3 = data[col].quantile(0.75)\n",
    "    IQR = Q3 - Q1\n",
    "    lower_bound = Q1 - 1.5 * IQR\n",
    "    upper_bound = Q3 + 1.5 * IQR\n",
    "    return data[(data[col] > lower_bound) & (data[col] < upper_bound)]"
   ]
  },
  {
   "cell_type": "code",
   "execution_count": 337,
   "metadata": {},
   "outputs": [
    {
     "data": {
      "text/plain": [
       "Index(['Brand', 'Current Price', 'Original Price', 'Rating',\n",
       "       'Number OF Ratings', 'Model Name', 'Dial Shape', 'Strap Color',\n",
       "       'Strap Material', 'Touchscreen', 'Battery Life (Days)', 'Bluetooth',\n",
       "       'Display Size', 'Weight', 'Discount Price'],\n",
       "      dtype='object')"
      ]
     },
     "execution_count": 337,
     "metadata": {},
     "output_type": "execute_result"
    }
   ],
   "source": [
    "train_df.columns"
   ]
  },
  {
   "cell_type": "code",
   "execution_count": 338,
   "metadata": {},
   "outputs": [],
   "source": [
    "import_col = ['Current Price', 'Original Price', 'Rating', 'Number OF Ratings', 'Display Size']"
   ]
  },
  {
   "cell_type": "code",
   "execution_count": 339,
   "metadata": {},
   "outputs": [],
   "source": [
    "for col in import_col:\n",
    "    train_df = remove_outliers_IQR(train_df, col)"
   ]
  },
  {
   "cell_type": "code",
   "execution_count": 340,
   "metadata": {},
   "outputs": [],
   "source": [
    "for col in numerical_col:\n",
    "    train_df[col] = train_df[col].fillna(train_df[col].median())"
   ]
  },
  {
   "cell_type": "code",
   "execution_count": 341,
   "metadata": {},
   "outputs": [
    {
     "data": {
      "text/plain": [
       "Brand                   0\n",
       "Current Price           0\n",
       "Original Price          0\n",
       "Rating                  0\n",
       "Number OF Ratings       0\n",
       "Model Name              9\n",
       "Dial Shape             65\n",
       "Strap Color            65\n",
       "Strap Material         26\n",
       "Touchscreen             6\n",
       "Battery Life (Days)     0\n",
       "Bluetooth               0\n",
       "Display Size            0\n",
       "Weight                  0\n",
       "Discount Price          0\n",
       "dtype: int64"
      ]
     },
     "execution_count": 341,
     "metadata": {},
     "output_type": "execute_result"
    }
   ],
   "source": [
    "train_df.isna().sum()"
   ]
  },
  {
   "cell_type": "code",
   "execution_count": 342,
   "metadata": {},
   "outputs": [
    {
     "data": {
      "text/plain": [
       "(181, 15)"
      ]
     },
     "execution_count": 342,
     "metadata": {},
     "output_type": "execute_result"
    }
   ],
   "source": [
    "train_df.shape"
   ]
  },
  {
   "cell_type": "code",
   "execution_count": 343,
   "metadata": {},
   "outputs": [
    {
     "data": {
      "text/html": [
       "<div>\n",
       "<style scoped>\n",
       "    .dataframe tbody tr th:only-of-type {\n",
       "        vertical-align: middle;\n",
       "    }\n",
       "\n",
       "    .dataframe tbody tr th {\n",
       "        vertical-align: top;\n",
       "    }\n",
       "\n",
       "    .dataframe thead th {\n",
       "        text-align: right;\n",
       "    }\n",
       "</style>\n",
       "<table border=\"1\" class=\"dataframe\">\n",
       "  <thead>\n",
       "    <tr style=\"text-align: right;\">\n",
       "      <th></th>\n",
       "      <th>Current Price</th>\n",
       "      <th>Original Price</th>\n",
       "      <th>Rating</th>\n",
       "      <th>Number OF Ratings</th>\n",
       "      <th>Battery Life (Days)</th>\n",
       "      <th>Display Size</th>\n",
       "      <th>Weight</th>\n",
       "      <th>Discount Price</th>\n",
       "    </tr>\n",
       "  </thead>\n",
       "  <tbody>\n",
       "    <tr>\n",
       "      <th>1</th>\n",
       "      <td>3799.0</td>\n",
       "      <td>16999.0</td>\n",
       "      <td>4.3</td>\n",
       "      <td>20788.0</td>\n",
       "      <td>3.5</td>\n",
       "      <td>1.8</td>\n",
       "      <td>62.5</td>\n",
       "      <td>-13200.000001</td>\n",
       "    </tr>\n",
       "    <tr>\n",
       "      <th>2</th>\n",
       "      <td>1999.0</td>\n",
       "      <td>7990.0</td>\n",
       "      <td>3.8</td>\n",
       "      <td>21724.0</td>\n",
       "      <td>8.0</td>\n",
       "      <td>1.7</td>\n",
       "      <td>42.5</td>\n",
       "      <td>-5991.000000</td>\n",
       "    </tr>\n",
       "    <tr>\n",
       "      <th>3</th>\n",
       "      <td>1799.0</td>\n",
       "      <td>19999.0</td>\n",
       "      <td>4.3</td>\n",
       "      <td>13244.0</td>\n",
       "      <td>3.5</td>\n",
       "      <td>1.8</td>\n",
       "      <td>75.0</td>\n",
       "      <td>-18200.000000</td>\n",
       "    </tr>\n",
       "    <tr>\n",
       "      <th>4</th>\n",
       "      <td>1599.0</td>\n",
       "      <td>4999.0</td>\n",
       "      <td>4.1</td>\n",
       "      <td>13901.0</td>\n",
       "      <td>8.0</td>\n",
       "      <td>1.7</td>\n",
       "      <td>42.5</td>\n",
       "      <td>-3400.000000</td>\n",
       "    </tr>\n",
       "    <tr>\n",
       "      <th>5</th>\n",
       "      <td>1499.0</td>\n",
       "      <td>3999.0</td>\n",
       "      <td>4.0</td>\n",
       "      <td>32704.0</td>\n",
       "      <td>8.0</td>\n",
       "      <td>1.7</td>\n",
       "      <td>42.5</td>\n",
       "      <td>-2500.000000</td>\n",
       "    </tr>\n",
       "  </tbody>\n",
       "</table>\n",
       "</div>"
      ],
      "text/plain": [
       "   Current Price  Original Price  Rating  Number OF Ratings  \\\n",
       "1         3799.0         16999.0     4.3            20788.0   \n",
       "2         1999.0          7990.0     3.8            21724.0   \n",
       "3         1799.0         19999.0     4.3            13244.0   \n",
       "4         1599.0          4999.0     4.1            13901.0   \n",
       "5         1499.0          3999.0     4.0            32704.0   \n",
       "\n",
       "   Battery Life (Days)  Display Size  Weight  Discount Price  \n",
       "1                  3.5           1.8    62.5   -13200.000001  \n",
       "2                  8.0           1.7    42.5    -5991.000000  \n",
       "3                  3.5           1.8    75.0   -18200.000000  \n",
       "4                  8.0           1.7    42.5    -3400.000000  \n",
       "5                  8.0           1.7    42.5    -2500.000000  "
      ]
     },
     "execution_count": 343,
     "metadata": {},
     "output_type": "execute_result"
    }
   ],
   "source": [
    "train_df[numerical_col].head()"
   ]
  },
  {
   "cell_type": "code",
   "execution_count": 344,
   "metadata": {},
   "outputs": [],
   "source": [
    "scaler = MinMaxScaler()"
   ]
  },
  {
   "cell_type": "code",
   "execution_count": 345,
   "metadata": {},
   "outputs": [],
   "source": [
    "data = scaler.fit_transform(train_df[numerical_col[:-1]])"
   ]
  },
  {
   "cell_type": "code",
   "execution_count": 346,
   "metadata": {},
   "outputs": [
    {
     "data": {
      "text/plain": [
       "array([[0.1116311 , 0.56836451, 0.83333333, ..., 0.12941176, 0.61538462,\n",
       "        0.77272727],\n",
       "       [0.03434803, 0.22996018, 0.41666667, ..., 0.34117647, 0.53846154,\n",
       "        0.40909091],\n",
       "       [0.02576102, 0.68105326, 0.83333333, ..., 0.12941176, 0.61538462,\n",
       "        1.        ],\n",
       "       ...,\n",
       "       [0.02996866, 0.00116445, 0.        , ..., 1.        , 1.        ,\n",
       "        0.40909091],\n",
       "       [0.12021811, 0.30542409, 0.33333333, ..., 1.        , 0.53846154,\n",
       "        0.40909091],\n",
       "       [0.12021811, 0.30542409, 0.33333333, ..., 1.        , 0.53846154,\n",
       "        0.40909091]])"
      ]
     },
     "execution_count": 346,
     "metadata": {},
     "output_type": "execute_result"
    }
   ],
   "source": [
    "data"
   ]
  },
  {
   "cell_type": "code",
   "execution_count": 347,
   "metadata": {},
   "outputs": [],
   "source": [
    "data = pd.DataFrame(data, columns=numerical_col[:-1])"
   ]
  },
  {
   "cell_type": "code",
   "execution_count": 348,
   "metadata": {},
   "outputs": [
    {
     "data": {
      "text/html": [
       "<div>\n",
       "<style scoped>\n",
       "    .dataframe tbody tr th:only-of-type {\n",
       "        vertical-align: middle;\n",
       "    }\n",
       "\n",
       "    .dataframe tbody tr th {\n",
       "        vertical-align: top;\n",
       "    }\n",
       "\n",
       "    .dataframe thead th {\n",
       "        text-align: right;\n",
       "    }\n",
       "</style>\n",
       "<table border=\"1\" class=\"dataframe\">\n",
       "  <thead>\n",
       "    <tr style=\"text-align: right;\">\n",
       "      <th></th>\n",
       "      <th>Current Price</th>\n",
       "      <th>Original Price</th>\n",
       "      <th>Rating</th>\n",
       "      <th>Number OF Ratings</th>\n",
       "      <th>Battery Life (Days)</th>\n",
       "      <th>Display Size</th>\n",
       "      <th>Weight</th>\n",
       "    </tr>\n",
       "  </thead>\n",
       "  <tbody>\n",
       "    <tr>\n",
       "      <th>0</th>\n",
       "      <td>0.111631</td>\n",
       "      <td>0.568365</td>\n",
       "      <td>0.833333</td>\n",
       "      <td>0.622082</td>\n",
       "      <td>0.129412</td>\n",
       "      <td>0.615385</td>\n",
       "      <td>0.772727</td>\n",
       "    </tr>\n",
       "    <tr>\n",
       "      <th>1</th>\n",
       "      <td>0.034348</td>\n",
       "      <td>0.229960</td>\n",
       "      <td>0.416667</td>\n",
       "      <td>0.650096</td>\n",
       "      <td>0.341176</td>\n",
       "      <td>0.538462</td>\n",
       "      <td>0.409091</td>\n",
       "    </tr>\n",
       "    <tr>\n",
       "      <th>2</th>\n",
       "      <td>0.025761</td>\n",
       "      <td>0.681053</td>\n",
       "      <td>0.833333</td>\n",
       "      <td>0.396295</td>\n",
       "      <td>0.129412</td>\n",
       "      <td>0.615385</td>\n",
       "      <td>1.000000</td>\n",
       "    </tr>\n",
       "    <tr>\n",
       "      <th>3</th>\n",
       "      <td>0.017174</td>\n",
       "      <td>0.117609</td>\n",
       "      <td>0.666667</td>\n",
       "      <td>0.415958</td>\n",
       "      <td>0.341176</td>\n",
       "      <td>0.538462</td>\n",
       "      <td>0.409091</td>\n",
       "    </tr>\n",
       "    <tr>\n",
       "      <th>4</th>\n",
       "      <td>0.012881</td>\n",
       "      <td>0.080047</td>\n",
       "      <td>0.583333</td>\n",
       "      <td>0.978720</td>\n",
       "      <td>0.341176</td>\n",
       "      <td>0.538462</td>\n",
       "      <td>0.409091</td>\n",
       "    </tr>\n",
       "  </tbody>\n",
       "</table>\n",
       "</div>"
      ],
      "text/plain": [
       "   Current Price  Original Price    Rating  Number OF Ratings  \\\n",
       "0       0.111631        0.568365  0.833333           0.622082   \n",
       "1       0.034348        0.229960  0.416667           0.650096   \n",
       "2       0.025761        0.681053  0.833333           0.396295   \n",
       "3       0.017174        0.117609  0.666667           0.415958   \n",
       "4       0.012881        0.080047  0.583333           0.978720   \n",
       "\n",
       "   Battery Life (Days)  Display Size    Weight  \n",
       "0             0.129412      0.615385  0.772727  \n",
       "1             0.341176      0.538462  0.409091  \n",
       "2             0.129412      0.615385  1.000000  \n",
       "3             0.341176      0.538462  0.409091  \n",
       "4             0.341176      0.538462  0.409091  "
      ]
     },
     "execution_count": 348,
     "metadata": {},
     "output_type": "execute_result"
    }
   ],
   "source": [
    "data.head()"
   ]
  },
  {
   "cell_type": "code",
   "execution_count": 349,
   "metadata": {},
   "outputs": [
    {
     "data": {
      "text/plain": [
       "(181, 7)"
      ]
     },
     "execution_count": 349,
     "metadata": {},
     "output_type": "execute_result"
    }
   ],
   "source": [
    "data.shape"
   ]
  },
  {
   "cell_type": "code",
   "execution_count": 350,
   "metadata": {},
   "outputs": [
    {
     "data": {
      "text/plain": [
       "Current Price          0\n",
       "Original Price         0\n",
       "Rating                 0\n",
       "Number OF Ratings      0\n",
       "Battery Life (Days)    0\n",
       "Display Size           0\n",
       "Weight                 0\n",
       "dtype: int64"
      ]
     },
     "execution_count": 350,
     "metadata": {},
     "output_type": "execute_result"
    }
   ],
   "source": [
    "data.isna().sum()"
   ]
  },
  {
   "cell_type": "code",
   "execution_count": 351,
   "metadata": {},
   "outputs": [],
   "source": [
    "train_df.drop(numerical_col[:-1], axis=1, inplace=True)"
   ]
  },
  {
   "cell_type": "code",
   "execution_count": 352,
   "metadata": {},
   "outputs": [
    {
     "data": {
      "text/html": [
       "<div>\n",
       "<style scoped>\n",
       "    .dataframe tbody tr th:only-of-type {\n",
       "        vertical-align: middle;\n",
       "    }\n",
       "\n",
       "    .dataframe tbody tr th {\n",
       "        vertical-align: top;\n",
       "    }\n",
       "\n",
       "    .dataframe thead th {\n",
       "        text-align: right;\n",
       "    }\n",
       "</style>\n",
       "<table border=\"1\" class=\"dataframe\">\n",
       "  <thead>\n",
       "    <tr style=\"text-align: right;\">\n",
       "      <th></th>\n",
       "      <th>Brand</th>\n",
       "      <th>Model Name</th>\n",
       "      <th>Dial Shape</th>\n",
       "      <th>Strap Color</th>\n",
       "      <th>Strap Material</th>\n",
       "      <th>Touchscreen</th>\n",
       "      <th>Bluetooth</th>\n",
       "      <th>Discount Price</th>\n",
       "    </tr>\n",
       "  </thead>\n",
       "  <tbody>\n",
       "    <tr>\n",
       "      <th>1</th>\n",
       "      <td>fire-boltt</td>\n",
       "      <td>BSW046</td>\n",
       "      <td>NaN</td>\n",
       "      <td>NaN</td>\n",
       "      <td>Silicon</td>\n",
       "      <td>Yes</td>\n",
       "      <td>Yes</td>\n",
       "      <td>-13200.000001</td>\n",
       "    </tr>\n",
       "    <tr>\n",
       "      <th>2</th>\n",
       "      <td>boat</td>\n",
       "      <td>Wave Call</td>\n",
       "      <td>NaN</td>\n",
       "      <td>NaN</td>\n",
       "      <td>Silicon</td>\n",
       "      <td>Yes</td>\n",
       "      <td>Yes</td>\n",
       "      <td>-5991.000000</td>\n",
       "    </tr>\n",
       "    <tr>\n",
       "      <th>3</th>\n",
       "      <td>fire-boltt</td>\n",
       "      <td>BSW053</td>\n",
       "      <td>NaN</td>\n",
       "      <td>NaN</td>\n",
       "      <td>Silicon</td>\n",
       "      <td>Yes</td>\n",
       "      <td>Yes</td>\n",
       "      <td>-18200.000000</td>\n",
       "    </tr>\n",
       "    <tr>\n",
       "      <th>4</th>\n",
       "      <td>noise</td>\n",
       "      <td>Wrb-sw-colorfitpulsegobuzz-std-blk_blk</td>\n",
       "      <td>NaN</td>\n",
       "      <td>NaN</td>\n",
       "      <td>Other</td>\n",
       "      <td>Yes</td>\n",
       "      <td>Yes</td>\n",
       "      <td>-3400.000000</td>\n",
       "    </tr>\n",
       "    <tr>\n",
       "      <th>5</th>\n",
       "      <td>noise</td>\n",
       "      <td>NSW-05</td>\n",
       "      <td>NaN</td>\n",
       "      <td>NaN</td>\n",
       "      <td>Other</td>\n",
       "      <td>Yes</td>\n",
       "      <td>Yes</td>\n",
       "      <td>-2500.000000</td>\n",
       "    </tr>\n",
       "  </tbody>\n",
       "</table>\n",
       "</div>"
      ],
      "text/plain": [
       "        Brand                              Model Name Dial Shape Strap Color  \\\n",
       "1  fire-boltt                                  BSW046        NaN         NaN   \n",
       "2        boat                               Wave Call        NaN         NaN   \n",
       "3  fire-boltt                                  BSW053        NaN         NaN   \n",
       "4       noise  Wrb-sw-colorfitpulsegobuzz-std-blk_blk        NaN         NaN   \n",
       "5       noise                                  NSW-05        NaN         NaN   \n",
       "\n",
       "  Strap Material Touchscreen Bluetooth  Discount Price  \n",
       "1        Silicon         Yes       Yes   -13200.000001  \n",
       "2        Silicon         Yes       Yes    -5991.000000  \n",
       "3        Silicon         Yes       Yes   -18200.000000  \n",
       "4          Other         Yes       Yes    -3400.000000  \n",
       "5          Other         Yes       Yes    -2500.000000  "
      ]
     },
     "execution_count": 352,
     "metadata": {},
     "output_type": "execute_result"
    }
   ],
   "source": [
    "train_df.head()"
   ]
  },
  {
   "cell_type": "code",
   "execution_count": 353,
   "metadata": {},
   "outputs": [],
   "source": [
    "train_df = pd.concat([train_df.reset_index(), data], axis=1)"
   ]
  },
  {
   "cell_type": "code",
   "execution_count": 354,
   "metadata": {},
   "outputs": [
    {
     "data": {
      "text/html": [
       "<div>\n",
       "<style scoped>\n",
       "    .dataframe tbody tr th:only-of-type {\n",
       "        vertical-align: middle;\n",
       "    }\n",
       "\n",
       "    .dataframe tbody tr th {\n",
       "        vertical-align: top;\n",
       "    }\n",
       "\n",
       "    .dataframe thead th {\n",
       "        text-align: right;\n",
       "    }\n",
       "</style>\n",
       "<table border=\"1\" class=\"dataframe\">\n",
       "  <thead>\n",
       "    <tr style=\"text-align: right;\">\n",
       "      <th></th>\n",
       "      <th>index</th>\n",
       "      <th>Brand</th>\n",
       "      <th>Model Name</th>\n",
       "      <th>Dial Shape</th>\n",
       "      <th>Strap Color</th>\n",
       "      <th>Strap Material</th>\n",
       "      <th>Touchscreen</th>\n",
       "      <th>Bluetooth</th>\n",
       "      <th>Discount Price</th>\n",
       "      <th>Current Price</th>\n",
       "      <th>Original Price</th>\n",
       "      <th>Rating</th>\n",
       "      <th>Number OF Ratings</th>\n",
       "      <th>Battery Life (Days)</th>\n",
       "      <th>Display Size</th>\n",
       "      <th>Weight</th>\n",
       "    </tr>\n",
       "  </thead>\n",
       "  <tbody>\n",
       "    <tr>\n",
       "      <th>0</th>\n",
       "      <td>1</td>\n",
       "      <td>fire-boltt</td>\n",
       "      <td>BSW046</td>\n",
       "      <td>NaN</td>\n",
       "      <td>NaN</td>\n",
       "      <td>Silicon</td>\n",
       "      <td>Yes</td>\n",
       "      <td>Yes</td>\n",
       "      <td>-13200.000001</td>\n",
       "      <td>0.111631</td>\n",
       "      <td>0.568365</td>\n",
       "      <td>0.833333</td>\n",
       "      <td>0.622082</td>\n",
       "      <td>0.129412</td>\n",
       "      <td>0.615385</td>\n",
       "      <td>0.772727</td>\n",
       "    </tr>\n",
       "    <tr>\n",
       "      <th>1</th>\n",
       "      <td>2</td>\n",
       "      <td>boat</td>\n",
       "      <td>Wave Call</td>\n",
       "      <td>NaN</td>\n",
       "      <td>NaN</td>\n",
       "      <td>Silicon</td>\n",
       "      <td>Yes</td>\n",
       "      <td>Yes</td>\n",
       "      <td>-5991.000000</td>\n",
       "      <td>0.034348</td>\n",
       "      <td>0.229960</td>\n",
       "      <td>0.416667</td>\n",
       "      <td>0.650096</td>\n",
       "      <td>0.341176</td>\n",
       "      <td>0.538462</td>\n",
       "      <td>0.409091</td>\n",
       "    </tr>\n",
       "    <tr>\n",
       "      <th>2</th>\n",
       "      <td>3</td>\n",
       "      <td>fire-boltt</td>\n",
       "      <td>BSW053</td>\n",
       "      <td>NaN</td>\n",
       "      <td>NaN</td>\n",
       "      <td>Silicon</td>\n",
       "      <td>Yes</td>\n",
       "      <td>Yes</td>\n",
       "      <td>-18200.000000</td>\n",
       "      <td>0.025761</td>\n",
       "      <td>0.681053</td>\n",
       "      <td>0.833333</td>\n",
       "      <td>0.396295</td>\n",
       "      <td>0.129412</td>\n",
       "      <td>0.615385</td>\n",
       "      <td>1.000000</td>\n",
       "    </tr>\n",
       "    <tr>\n",
       "      <th>3</th>\n",
       "      <td>4</td>\n",
       "      <td>noise</td>\n",
       "      <td>Wrb-sw-colorfitpulsegobuzz-std-blk_blk</td>\n",
       "      <td>NaN</td>\n",
       "      <td>NaN</td>\n",
       "      <td>Other</td>\n",
       "      <td>Yes</td>\n",
       "      <td>Yes</td>\n",
       "      <td>-3400.000000</td>\n",
       "      <td>0.017174</td>\n",
       "      <td>0.117609</td>\n",
       "      <td>0.666667</td>\n",
       "      <td>0.415958</td>\n",
       "      <td>0.341176</td>\n",
       "      <td>0.538462</td>\n",
       "      <td>0.409091</td>\n",
       "    </tr>\n",
       "    <tr>\n",
       "      <th>4</th>\n",
       "      <td>5</td>\n",
       "      <td>noise</td>\n",
       "      <td>NSW-05</td>\n",
       "      <td>NaN</td>\n",
       "      <td>NaN</td>\n",
       "      <td>Other</td>\n",
       "      <td>Yes</td>\n",
       "      <td>Yes</td>\n",
       "      <td>-2500.000000</td>\n",
       "      <td>0.012881</td>\n",
       "      <td>0.080047</td>\n",
       "      <td>0.583333</td>\n",
       "      <td>0.978720</td>\n",
       "      <td>0.341176</td>\n",
       "      <td>0.538462</td>\n",
       "      <td>0.409091</td>\n",
       "    </tr>\n",
       "  </tbody>\n",
       "</table>\n",
       "</div>"
      ],
      "text/plain": [
       "   index       Brand                              Model Name Dial Shape  \\\n",
       "0      1  fire-boltt                                  BSW046        NaN   \n",
       "1      2        boat                               Wave Call        NaN   \n",
       "2      3  fire-boltt                                  BSW053        NaN   \n",
       "3      4       noise  Wrb-sw-colorfitpulsegobuzz-std-blk_blk        NaN   \n",
       "4      5       noise                                  NSW-05        NaN   \n",
       "\n",
       "  Strap Color Strap Material Touchscreen Bluetooth  Discount Price  \\\n",
       "0         NaN        Silicon         Yes       Yes   -13200.000001   \n",
       "1         NaN        Silicon         Yes       Yes    -5991.000000   \n",
       "2         NaN        Silicon         Yes       Yes   -18200.000000   \n",
       "3         NaN          Other         Yes       Yes    -3400.000000   \n",
       "4         NaN          Other         Yes       Yes    -2500.000000   \n",
       "\n",
       "   Current Price  Original Price    Rating  Number OF Ratings  \\\n",
       "0       0.111631        0.568365  0.833333           0.622082   \n",
       "1       0.034348        0.229960  0.416667           0.650096   \n",
       "2       0.025761        0.681053  0.833333           0.396295   \n",
       "3       0.017174        0.117609  0.666667           0.415958   \n",
       "4       0.012881        0.080047  0.583333           0.978720   \n",
       "\n",
       "   Battery Life (Days)  Display Size    Weight  \n",
       "0             0.129412      0.615385  0.772727  \n",
       "1             0.341176      0.538462  0.409091  \n",
       "2             0.129412      0.615385  1.000000  \n",
       "3             0.341176      0.538462  0.409091  \n",
       "4             0.341176      0.538462  0.409091  "
      ]
     },
     "execution_count": 354,
     "metadata": {},
     "output_type": "execute_result"
    }
   ],
   "source": [
    "train_df.head()"
   ]
  },
  {
   "cell_type": "code",
   "execution_count": 355,
   "metadata": {},
   "outputs": [
    {
     "data": {
      "text/plain": [
       "(181, 16)"
      ]
     },
     "execution_count": 355,
     "metadata": {},
     "output_type": "execute_result"
    }
   ],
   "source": [
    "train_df.shape"
   ]
  },
  {
   "cell_type": "code",
   "execution_count": null,
   "metadata": {},
   "outputs": [],
   "source": []
  },
  {
   "cell_type": "markdown",
   "metadata": {},
   "source": [
    "Categorical Column"
   ]
  },
  {
   "cell_type": "markdown",
   "metadata": {},
   "source": []
  },
  {
   "cell_type": "code",
   "execution_count": 356,
   "metadata": {},
   "outputs": [
    {
     "data": {
      "text/plain": [
       "['Brand',\n",
       " 'Model Name',\n",
       " 'Dial Shape',\n",
       " 'Strap Color',\n",
       " 'Strap Material',\n",
       " 'Touchscreen',\n",
       " 'Bluetooth']"
      ]
     },
     "execution_count": 356,
     "metadata": {},
     "output_type": "execute_result"
    }
   ],
   "source": [
    "categorical_col"
   ]
  },
  {
   "cell_type": "code",
   "execution_count": 357,
   "metadata": {},
   "outputs": [
    {
     "data": {
      "text/html": [
       "<div>\n",
       "<style scoped>\n",
       "    .dataframe tbody tr th:only-of-type {\n",
       "        vertical-align: middle;\n",
       "    }\n",
       "\n",
       "    .dataframe tbody tr th {\n",
       "        vertical-align: top;\n",
       "    }\n",
       "\n",
       "    .dataframe thead th {\n",
       "        text-align: right;\n",
       "    }\n",
       "</style>\n",
       "<table border=\"1\" class=\"dataframe\">\n",
       "  <thead>\n",
       "    <tr style=\"text-align: right;\">\n",
       "      <th></th>\n",
       "      <th>Brand</th>\n",
       "      <th>Model Name</th>\n",
       "      <th>Dial Shape</th>\n",
       "      <th>Strap Color</th>\n",
       "      <th>Strap Material</th>\n",
       "      <th>Touchscreen</th>\n",
       "      <th>Bluetooth</th>\n",
       "    </tr>\n",
       "  </thead>\n",
       "  <tbody>\n",
       "    <tr>\n",
       "      <th>0</th>\n",
       "      <td>fire-boltt</td>\n",
       "      <td>BSW046</td>\n",
       "      <td>NaN</td>\n",
       "      <td>NaN</td>\n",
       "      <td>Silicon</td>\n",
       "      <td>Yes</td>\n",
       "      <td>Yes</td>\n",
       "    </tr>\n",
       "    <tr>\n",
       "      <th>1</th>\n",
       "      <td>boat</td>\n",
       "      <td>Wave Call</td>\n",
       "      <td>NaN</td>\n",
       "      <td>NaN</td>\n",
       "      <td>Silicon</td>\n",
       "      <td>Yes</td>\n",
       "      <td>Yes</td>\n",
       "    </tr>\n",
       "    <tr>\n",
       "      <th>2</th>\n",
       "      <td>fire-boltt</td>\n",
       "      <td>BSW053</td>\n",
       "      <td>NaN</td>\n",
       "      <td>NaN</td>\n",
       "      <td>Silicon</td>\n",
       "      <td>Yes</td>\n",
       "      <td>Yes</td>\n",
       "    </tr>\n",
       "    <tr>\n",
       "      <th>3</th>\n",
       "      <td>noise</td>\n",
       "      <td>Wrb-sw-colorfitpulsegobuzz-std-blk_blk</td>\n",
       "      <td>NaN</td>\n",
       "      <td>NaN</td>\n",
       "      <td>Other</td>\n",
       "      <td>Yes</td>\n",
       "      <td>Yes</td>\n",
       "    </tr>\n",
       "    <tr>\n",
       "      <th>4</th>\n",
       "      <td>noise</td>\n",
       "      <td>NSW-05</td>\n",
       "      <td>NaN</td>\n",
       "      <td>NaN</td>\n",
       "      <td>Other</td>\n",
       "      <td>Yes</td>\n",
       "      <td>Yes</td>\n",
       "    </tr>\n",
       "  </tbody>\n",
       "</table>\n",
       "</div>"
      ],
      "text/plain": [
       "        Brand                              Model Name Dial Shape Strap Color  \\\n",
       "0  fire-boltt                                  BSW046        NaN         NaN   \n",
       "1        boat                               Wave Call        NaN         NaN   \n",
       "2  fire-boltt                                  BSW053        NaN         NaN   \n",
       "3       noise  Wrb-sw-colorfitpulsegobuzz-std-blk_blk        NaN         NaN   \n",
       "4       noise                                  NSW-05        NaN         NaN   \n",
       "\n",
       "  Strap Material Touchscreen Bluetooth  \n",
       "0        Silicon         Yes       Yes  \n",
       "1        Silicon         Yes       Yes  \n",
       "2        Silicon         Yes       Yes  \n",
       "3          Other         Yes       Yes  \n",
       "4          Other         Yes       Yes  "
      ]
     },
     "execution_count": 357,
     "metadata": {},
     "output_type": "execute_result"
    }
   ],
   "source": [
    "train_df[categorical_col].head()"
   ]
  },
  {
   "cell_type": "code",
   "execution_count": 358,
   "metadata": {},
   "outputs": [],
   "source": [
    "categorical_col.remove('Bluetooth')"
   ]
  },
  {
   "cell_type": "code",
   "execution_count": 359,
   "metadata": {},
   "outputs": [],
   "source": [
    "from scipy.stats import f_oneway"
   ]
  },
  {
   "cell_type": "code",
   "execution_count": 360,
   "metadata": {},
   "outputs": [
    {
     "name": "stdout",
     "output_type": "stream",
     "text": [
      "Brand :  P-Value for anova is :  8.421850586222264e-14\n",
      "Model Name :  P-Value for anova is :  4.2637443020007396e-05\n",
      "Dial Shape :  P-Value for anova is :  0.00012368727588900151\n",
      "Strap Color :  P-Value for anova is :  0.06574836943894022\n",
      "Strap Material :  P-Value for anova is :  0.00039800860157354607\n",
      "Touchscreen :  P-Value for anova is :  0.9803878528536757\n"
     ]
    }
   ],
   "source": [
    "for col in categorical_col:\n",
    "    CategoricalGroupList = train_df.groupby(col)['Discount Price'].apply(list)\n",
    "    AnovaResults = f_oneway(*CategoricalGroupList)\n",
    "    print(col, ': ', 'P-Value for anova is : ', AnovaResults[1])"
   ]
  },
  {
   "cell_type": "code",
   "execution_count": 361,
   "metadata": {},
   "outputs": [],
   "source": [
    "imp_col = ['Brand', 'Model Name', 'Dial Shape', 'Strap Material']"
   ]
  },
  {
   "cell_type": "code",
   "execution_count": 362,
   "metadata": {},
   "outputs": [
    {
     "data": {
      "text/html": [
       "<div>\n",
       "<style scoped>\n",
       "    .dataframe tbody tr th:only-of-type {\n",
       "        vertical-align: middle;\n",
       "    }\n",
       "\n",
       "    .dataframe tbody tr th {\n",
       "        vertical-align: top;\n",
       "    }\n",
       "\n",
       "    .dataframe thead th {\n",
       "        text-align: right;\n",
       "    }\n",
       "</style>\n",
       "<table border=\"1\" class=\"dataframe\">\n",
       "  <thead>\n",
       "    <tr style=\"text-align: right;\">\n",
       "      <th></th>\n",
       "      <th>Brand</th>\n",
       "      <th>Model Name</th>\n",
       "      <th>Dial Shape</th>\n",
       "      <th>Strap Material</th>\n",
       "    </tr>\n",
       "  </thead>\n",
       "  <tbody>\n",
       "    <tr>\n",
       "      <th>0</th>\n",
       "      <td>fire-boltt</td>\n",
       "      <td>BSW046</td>\n",
       "      <td>NaN</td>\n",
       "      <td>Silicon</td>\n",
       "    </tr>\n",
       "    <tr>\n",
       "      <th>1</th>\n",
       "      <td>boat</td>\n",
       "      <td>Wave Call</td>\n",
       "      <td>NaN</td>\n",
       "      <td>Silicon</td>\n",
       "    </tr>\n",
       "    <tr>\n",
       "      <th>2</th>\n",
       "      <td>fire-boltt</td>\n",
       "      <td>BSW053</td>\n",
       "      <td>NaN</td>\n",
       "      <td>Silicon</td>\n",
       "    </tr>\n",
       "    <tr>\n",
       "      <th>3</th>\n",
       "      <td>noise</td>\n",
       "      <td>Wrb-sw-colorfitpulsegobuzz-std-blk_blk</td>\n",
       "      <td>NaN</td>\n",
       "      <td>Other</td>\n",
       "    </tr>\n",
       "    <tr>\n",
       "      <th>4</th>\n",
       "      <td>noise</td>\n",
       "      <td>NSW-05</td>\n",
       "      <td>NaN</td>\n",
       "      <td>Other</td>\n",
       "    </tr>\n",
       "  </tbody>\n",
       "</table>\n",
       "</div>"
      ],
      "text/plain": [
       "        Brand                              Model Name Dial Shape  \\\n",
       "0  fire-boltt                                  BSW046        NaN   \n",
       "1        boat                               Wave Call        NaN   \n",
       "2  fire-boltt                                  BSW053        NaN   \n",
       "3       noise  Wrb-sw-colorfitpulsegobuzz-std-blk_blk        NaN   \n",
       "4       noise                                  NSW-05        NaN   \n",
       "\n",
       "  Strap Material  \n",
       "0        Silicon  \n",
       "1        Silicon  \n",
       "2        Silicon  \n",
       "3          Other  \n",
       "4          Other  "
      ]
     },
     "execution_count": 362,
     "metadata": {},
     "output_type": "execute_result"
    }
   ],
   "source": [
    "train_df[imp_col].head()"
   ]
  },
  {
   "cell_type": "code",
   "execution_count": 363,
   "metadata": {},
   "outputs": [],
   "source": [
    "for col in imp_col:\n",
    "    train_df[col] = train_df[col].fillna('other')\n"
   ]
  },
  {
   "cell_type": "code",
   "execution_count": 364,
   "metadata": {},
   "outputs": [
    {
     "data": {
      "text/plain": [
       "Brand             0\n",
       "Model Name        0\n",
       "Dial Shape        0\n",
       "Strap Material    0\n",
       "dtype: int64"
      ]
     },
     "execution_count": 364,
     "metadata": {},
     "output_type": "execute_result"
    }
   ],
   "source": [
    "train_df[imp_col].isna().sum()"
   ]
  },
  {
   "cell_type": "code",
   "execution_count": 365,
   "metadata": {},
   "outputs": [],
   "source": [
    "brand = pd.get_dummies(train_df['Brand'], drop_first=True)\n",
    "model_name = pd.get_dummies(train_df['Model Name']).drop(['other'], axis=1)\n",
    "dial_shape = pd.get_dummies(train_df['Dial Shape']).drop(['other'], axis=1)\n",
    "strap_material = pd.get_dummies(train_df['Strap Material']).drop(['other'], axis=1)"
   ]
  },
  {
   "cell_type": "code",
   "execution_count": 366,
   "metadata": {},
   "outputs": [],
   "source": [
    "imp_df = pd.concat([brand, model_name, dial_shape, strap_material], axis=1)"
   ]
  },
  {
   "cell_type": "code",
   "execution_count": 367,
   "metadata": {},
   "outputs": [
    {
     "data": {
      "text/html": [
       "<div>\n",
       "<style scoped>\n",
       "    .dataframe tbody tr th:only-of-type {\n",
       "        vertical-align: middle;\n",
       "    }\n",
       "\n",
       "    .dataframe tbody tr th {\n",
       "        vertical-align: top;\n",
       "    }\n",
       "\n",
       "    .dataframe thead th {\n",
       "        text-align: right;\n",
       "    }\n",
       "</style>\n",
       "<table border=\"1\" class=\"dataframe\">\n",
       "  <thead>\n",
       "    <tr style=\"text-align: right;\">\n",
       "      <th></th>\n",
       "      <th>ambrane</th>\n",
       "      <th>boat</th>\n",
       "      <th>crossbeats</th>\n",
       "      <th>dizo</th>\n",
       "      <th>fire-boltt</th>\n",
       "      <th>fitbit</th>\n",
       "      <th>fossil</th>\n",
       "      <th>garmin</th>\n",
       "      <th>gizmore</th>\n",
       "      <th>hammer</th>\n",
       "      <th>...</th>\n",
       "      <th>Leather</th>\n",
       "      <th>Metal</th>\n",
       "      <th>Nylon</th>\n",
       "      <th>Other</th>\n",
       "      <th>Plastic</th>\n",
       "      <th>Rubber</th>\n",
       "      <th>Silicon</th>\n",
       "      <th>Stainless Steel</th>\n",
       "      <th>Synthetic</th>\n",
       "      <th>Thermo Plastic Polyurethene</th>\n",
       "    </tr>\n",
       "  </thead>\n",
       "  <tbody>\n",
       "    <tr>\n",
       "      <th>0</th>\n",
       "      <td>False</td>\n",
       "      <td>False</td>\n",
       "      <td>False</td>\n",
       "      <td>False</td>\n",
       "      <td>True</td>\n",
       "      <td>False</td>\n",
       "      <td>False</td>\n",
       "      <td>False</td>\n",
       "      <td>False</td>\n",
       "      <td>False</td>\n",
       "      <td>...</td>\n",
       "      <td>False</td>\n",
       "      <td>False</td>\n",
       "      <td>False</td>\n",
       "      <td>False</td>\n",
       "      <td>False</td>\n",
       "      <td>False</td>\n",
       "      <td>True</td>\n",
       "      <td>False</td>\n",
       "      <td>False</td>\n",
       "      <td>False</td>\n",
       "    </tr>\n",
       "    <tr>\n",
       "      <th>1</th>\n",
       "      <td>False</td>\n",
       "      <td>True</td>\n",
       "      <td>False</td>\n",
       "      <td>False</td>\n",
       "      <td>False</td>\n",
       "      <td>False</td>\n",
       "      <td>False</td>\n",
       "      <td>False</td>\n",
       "      <td>False</td>\n",
       "      <td>False</td>\n",
       "      <td>...</td>\n",
       "      <td>False</td>\n",
       "      <td>False</td>\n",
       "      <td>False</td>\n",
       "      <td>False</td>\n",
       "      <td>False</td>\n",
       "      <td>False</td>\n",
       "      <td>True</td>\n",
       "      <td>False</td>\n",
       "      <td>False</td>\n",
       "      <td>False</td>\n",
       "    </tr>\n",
       "    <tr>\n",
       "      <th>2</th>\n",
       "      <td>False</td>\n",
       "      <td>False</td>\n",
       "      <td>False</td>\n",
       "      <td>False</td>\n",
       "      <td>True</td>\n",
       "      <td>False</td>\n",
       "      <td>False</td>\n",
       "      <td>False</td>\n",
       "      <td>False</td>\n",
       "      <td>False</td>\n",
       "      <td>...</td>\n",
       "      <td>False</td>\n",
       "      <td>False</td>\n",
       "      <td>False</td>\n",
       "      <td>False</td>\n",
       "      <td>False</td>\n",
       "      <td>False</td>\n",
       "      <td>True</td>\n",
       "      <td>False</td>\n",
       "      <td>False</td>\n",
       "      <td>False</td>\n",
       "    </tr>\n",
       "    <tr>\n",
       "      <th>3</th>\n",
       "      <td>False</td>\n",
       "      <td>False</td>\n",
       "      <td>False</td>\n",
       "      <td>False</td>\n",
       "      <td>False</td>\n",
       "      <td>False</td>\n",
       "      <td>False</td>\n",
       "      <td>False</td>\n",
       "      <td>False</td>\n",
       "      <td>False</td>\n",
       "      <td>...</td>\n",
       "      <td>False</td>\n",
       "      <td>False</td>\n",
       "      <td>False</td>\n",
       "      <td>True</td>\n",
       "      <td>False</td>\n",
       "      <td>False</td>\n",
       "      <td>False</td>\n",
       "      <td>False</td>\n",
       "      <td>False</td>\n",
       "      <td>False</td>\n",
       "    </tr>\n",
       "    <tr>\n",
       "      <th>4</th>\n",
       "      <td>False</td>\n",
       "      <td>False</td>\n",
       "      <td>False</td>\n",
       "      <td>False</td>\n",
       "      <td>False</td>\n",
       "      <td>False</td>\n",
       "      <td>False</td>\n",
       "      <td>False</td>\n",
       "      <td>False</td>\n",
       "      <td>False</td>\n",
       "      <td>...</td>\n",
       "      <td>False</td>\n",
       "      <td>False</td>\n",
       "      <td>False</td>\n",
       "      <td>True</td>\n",
       "      <td>False</td>\n",
       "      <td>False</td>\n",
       "      <td>False</td>\n",
       "      <td>False</td>\n",
       "      <td>False</td>\n",
       "      <td>False</td>\n",
       "    </tr>\n",
       "  </tbody>\n",
       "</table>\n",
       "<p>5 rows × 193 columns</p>\n",
       "</div>"
      ],
      "text/plain": [
       "   ambrane   boat  crossbeats   dizo  fire-boltt  fitbit  fossil  garmin  \\\n",
       "0    False  False       False  False        True   False   False   False   \n",
       "1    False   True       False  False       False   False   False   False   \n",
       "2    False  False       False  False        True   False   False   False   \n",
       "3    False  False       False  False       False   False   False   False   \n",
       "4    False  False       False  False       False   False   False   False   \n",
       "\n",
       "   gizmore  hammer  ...  Leather  Metal  Nylon  Other  Plastic  Rubber  \\\n",
       "0    False   False  ...    False  False  False  False    False   False   \n",
       "1    False   False  ...    False  False  False  False    False   False   \n",
       "2    False   False  ...    False  False  False  False    False   False   \n",
       "3    False   False  ...    False  False  False   True    False   False   \n",
       "4    False   False  ...    False  False  False   True    False   False   \n",
       "\n",
       "   Silicon  Stainless Steel  Synthetic  Thermo Plastic Polyurethene  \n",
       "0     True            False      False                        False  \n",
       "1     True            False      False                        False  \n",
       "2     True            False      False                        False  \n",
       "3    False            False      False                        False  \n",
       "4    False            False      False                        False  \n",
       "\n",
       "[5 rows x 193 columns]"
      ]
     },
     "execution_count": 367,
     "metadata": {},
     "output_type": "execute_result"
    }
   ],
   "source": [
    "imp_df.head()"
   ]
  },
  {
   "cell_type": "code",
   "execution_count": 368,
   "metadata": {},
   "outputs": [],
   "source": [
    "new_df = pd.concat([train_df[numerical_col], imp_df], axis=1)"
   ]
  },
  {
   "cell_type": "code",
   "execution_count": 369,
   "metadata": {},
   "outputs": [
    {
     "data": {
      "text/html": [
       "<div>\n",
       "<style scoped>\n",
       "    .dataframe tbody tr th:only-of-type {\n",
       "        vertical-align: middle;\n",
       "    }\n",
       "\n",
       "    .dataframe tbody tr th {\n",
       "        vertical-align: top;\n",
       "    }\n",
       "\n",
       "    .dataframe thead th {\n",
       "        text-align: right;\n",
       "    }\n",
       "</style>\n",
       "<table border=\"1\" class=\"dataframe\">\n",
       "  <thead>\n",
       "    <tr style=\"text-align: right;\">\n",
       "      <th></th>\n",
       "      <th>Current Price</th>\n",
       "      <th>Original Price</th>\n",
       "      <th>Rating</th>\n",
       "      <th>Number OF Ratings</th>\n",
       "      <th>Battery Life (Days)</th>\n",
       "      <th>Display Size</th>\n",
       "      <th>Weight</th>\n",
       "      <th>Discount Price</th>\n",
       "      <th>ambrane</th>\n",
       "      <th>boat</th>\n",
       "      <th>...</th>\n",
       "      <th>Leather</th>\n",
       "      <th>Metal</th>\n",
       "      <th>Nylon</th>\n",
       "      <th>Other</th>\n",
       "      <th>Plastic</th>\n",
       "      <th>Rubber</th>\n",
       "      <th>Silicon</th>\n",
       "      <th>Stainless Steel</th>\n",
       "      <th>Synthetic</th>\n",
       "      <th>Thermo Plastic Polyurethene</th>\n",
       "    </tr>\n",
       "  </thead>\n",
       "  <tbody>\n",
       "    <tr>\n",
       "      <th>0</th>\n",
       "      <td>0.111631</td>\n",
       "      <td>0.568365</td>\n",
       "      <td>0.833333</td>\n",
       "      <td>0.622082</td>\n",
       "      <td>0.129412</td>\n",
       "      <td>0.615385</td>\n",
       "      <td>0.772727</td>\n",
       "      <td>-13200.000001</td>\n",
       "      <td>False</td>\n",
       "      <td>False</td>\n",
       "      <td>...</td>\n",
       "      <td>False</td>\n",
       "      <td>False</td>\n",
       "      <td>False</td>\n",
       "      <td>False</td>\n",
       "      <td>False</td>\n",
       "      <td>False</td>\n",
       "      <td>True</td>\n",
       "      <td>False</td>\n",
       "      <td>False</td>\n",
       "      <td>False</td>\n",
       "    </tr>\n",
       "    <tr>\n",
       "      <th>1</th>\n",
       "      <td>0.034348</td>\n",
       "      <td>0.229960</td>\n",
       "      <td>0.416667</td>\n",
       "      <td>0.650096</td>\n",
       "      <td>0.341176</td>\n",
       "      <td>0.538462</td>\n",
       "      <td>0.409091</td>\n",
       "      <td>-5991.000000</td>\n",
       "      <td>False</td>\n",
       "      <td>True</td>\n",
       "      <td>...</td>\n",
       "      <td>False</td>\n",
       "      <td>False</td>\n",
       "      <td>False</td>\n",
       "      <td>False</td>\n",
       "      <td>False</td>\n",
       "      <td>False</td>\n",
       "      <td>True</td>\n",
       "      <td>False</td>\n",
       "      <td>False</td>\n",
       "      <td>False</td>\n",
       "    </tr>\n",
       "    <tr>\n",
       "      <th>2</th>\n",
       "      <td>0.025761</td>\n",
       "      <td>0.681053</td>\n",
       "      <td>0.833333</td>\n",
       "      <td>0.396295</td>\n",
       "      <td>0.129412</td>\n",
       "      <td>0.615385</td>\n",
       "      <td>1.000000</td>\n",
       "      <td>-18200.000000</td>\n",
       "      <td>False</td>\n",
       "      <td>False</td>\n",
       "      <td>...</td>\n",
       "      <td>False</td>\n",
       "      <td>False</td>\n",
       "      <td>False</td>\n",
       "      <td>False</td>\n",
       "      <td>False</td>\n",
       "      <td>False</td>\n",
       "      <td>True</td>\n",
       "      <td>False</td>\n",
       "      <td>False</td>\n",
       "      <td>False</td>\n",
       "    </tr>\n",
       "    <tr>\n",
       "      <th>3</th>\n",
       "      <td>0.017174</td>\n",
       "      <td>0.117609</td>\n",
       "      <td>0.666667</td>\n",
       "      <td>0.415958</td>\n",
       "      <td>0.341176</td>\n",
       "      <td>0.538462</td>\n",
       "      <td>0.409091</td>\n",
       "      <td>-3400.000000</td>\n",
       "      <td>False</td>\n",
       "      <td>False</td>\n",
       "      <td>...</td>\n",
       "      <td>False</td>\n",
       "      <td>False</td>\n",
       "      <td>False</td>\n",
       "      <td>True</td>\n",
       "      <td>False</td>\n",
       "      <td>False</td>\n",
       "      <td>False</td>\n",
       "      <td>False</td>\n",
       "      <td>False</td>\n",
       "      <td>False</td>\n",
       "    </tr>\n",
       "    <tr>\n",
       "      <th>4</th>\n",
       "      <td>0.012881</td>\n",
       "      <td>0.080047</td>\n",
       "      <td>0.583333</td>\n",
       "      <td>0.978720</td>\n",
       "      <td>0.341176</td>\n",
       "      <td>0.538462</td>\n",
       "      <td>0.409091</td>\n",
       "      <td>-2500.000000</td>\n",
       "      <td>False</td>\n",
       "      <td>False</td>\n",
       "      <td>...</td>\n",
       "      <td>False</td>\n",
       "      <td>False</td>\n",
       "      <td>False</td>\n",
       "      <td>True</td>\n",
       "      <td>False</td>\n",
       "      <td>False</td>\n",
       "      <td>False</td>\n",
       "      <td>False</td>\n",
       "      <td>False</td>\n",
       "      <td>False</td>\n",
       "    </tr>\n",
       "  </tbody>\n",
       "</table>\n",
       "<p>5 rows × 201 columns</p>\n",
       "</div>"
      ],
      "text/plain": [
       "   Current Price  Original Price    Rating  Number OF Ratings  \\\n",
       "0       0.111631        0.568365  0.833333           0.622082   \n",
       "1       0.034348        0.229960  0.416667           0.650096   \n",
       "2       0.025761        0.681053  0.833333           0.396295   \n",
       "3       0.017174        0.117609  0.666667           0.415958   \n",
       "4       0.012881        0.080047  0.583333           0.978720   \n",
       "\n",
       "   Battery Life (Days)  Display Size    Weight  Discount Price  ambrane  \\\n",
       "0             0.129412      0.615385  0.772727   -13200.000001    False   \n",
       "1             0.341176      0.538462  0.409091    -5991.000000    False   \n",
       "2             0.129412      0.615385  1.000000   -18200.000000    False   \n",
       "3             0.341176      0.538462  0.409091    -3400.000000    False   \n",
       "4             0.341176      0.538462  0.409091    -2500.000000    False   \n",
       "\n",
       "    boat  ...  Leather  Metal  Nylon  Other  Plastic  Rubber  Silicon  \\\n",
       "0  False  ...    False  False  False  False    False   False     True   \n",
       "1   True  ...    False  False  False  False    False   False     True   \n",
       "2  False  ...    False  False  False  False    False   False     True   \n",
       "3  False  ...    False  False  False   True    False   False    False   \n",
       "4  False  ...    False  False  False   True    False   False    False   \n",
       "\n",
       "   Stainless Steel  Synthetic  Thermo Plastic Polyurethene  \n",
       "0            False      False                        False  \n",
       "1            False      False                        False  \n",
       "2            False      False                        False  \n",
       "3            False      False                        False  \n",
       "4            False      False                        False  \n",
       "\n",
       "[5 rows x 201 columns]"
      ]
     },
     "execution_count": 369,
     "metadata": {},
     "output_type": "execute_result"
    }
   ],
   "source": [
    "new_df.head()"
   ]
  },
  {
   "cell_type": "code",
   "execution_count": 370,
   "metadata": {},
   "outputs": [
    {
     "data": {
      "text/plain": [
       "Current Price                  0\n",
       "Original Price                 0\n",
       "Rating                         0\n",
       "Number OF Ratings              0\n",
       "Battery Life (Days)            0\n",
       "                              ..\n",
       "Rubber                         0\n",
       "Silicon                        0\n",
       "Stainless Steel                0\n",
       "Synthetic                      0\n",
       "Thermo Plastic Polyurethene    0\n",
       "Length: 201, dtype: int64"
      ]
     },
     "execution_count": 370,
     "metadata": {},
     "output_type": "execute_result"
    }
   ],
   "source": [
    "new_df.isna().sum()"
   ]
  },
  {
   "cell_type": "code",
   "execution_count": null,
   "metadata": {},
   "outputs": [],
   "source": []
  }
 ],
 "metadata": {
  "kernelspec": {
   "display_name": "watchprice",
   "language": "python",
   "name": "python3"
  },
  "language_info": {
   "codemirror_mode": {
    "name": "ipython",
    "version": 3
   },
   "file_extension": ".py",
   "mimetype": "text/x-python",
   "name": "python",
   "nbconvert_exporter": "python",
   "pygments_lexer": "ipython3",
   "version": "3.9.6"
  }
 },
 "nbformat": 4,
 "nbformat_minor": 2
}
